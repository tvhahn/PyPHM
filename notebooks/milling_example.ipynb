{
 "cells": [
  {
   "cell_type": "markdown",
   "metadata": {},
   "source": [
    "# UC-Berkeley Milling Dataset\n",
    "> This notebook demonstrates how we can use PyPHM with the UC-Berkeley Milling Dataset. We also conduct some basic data exploration to help the reader understand the data.\n",
    "\n",
    "The UC-Berkeley Milling Dataset is a collection of milling machine signals. In short, the dataset is made of 16 cases of milling tools performing cuts in metal. Six cutting parameters were used in the creation of the data: \n",
    "\n",
    "* the metal type (either cast iron or steel, labelled as 1 or 2 in the data set, respectively)\n",
    "* the depth of cut (either 0.75 mm or 1.5 mm)\n",
    "* the feed rate (either 0.25 mm/rev or 0.5 mm/rev)\n",
    "\n",
    "Each of the 16 cases is a combination of the cutting parameters (for example, case one has a depth of cut of 1.5 mm, a feed rate of 0.5 mm/rev, and is performed on cast iron). \n",
    "\n",
    "The cases are made up of individual cuts from when the tool is new to degraded or worn. There are 167 cuts (called 'runs' in the documentation) amongst all 16 cases. Many of the cuts are accompanied by a measure of flank wear (VB). We'll use this to label the cuts as either as healthy, degraded, or worn.\n",
    "\n",
    "Finally, six signals were collected during each cut: acoustic emission (AE) signals from the spindle and table; vibration from the spindle and table; and AC/DC current from the spindle motor. The signals were collected at 250 Hz and each cut has 9000 sampling points, for a total signal length of 36 seconds.\n",
    "\n",
    "The dataset is available from the [NASA Prognostic Data Repository](https://ti.arc.nasa.gov/tech/dash/groups/pcoe/prognostic-data-repository/#milling). Consider citing the creators of the dataset if you use it in academic research.\n",
    "\n",
    "# Quickstart\n",
    "Use PyPHM to quickly download and prepare the dataset.\n",
    "\n",
    "**Only if** you are running in Google Colab, install PyPHM."
   ]
  },
  {
   "cell_type": "code",
   "execution_count": null,
   "metadata": {},
   "outputs": [],
   "source": [
    "# ONLY RUN IF YOU'RE USING GOOGLE COLAB\n",
    "!pip install pyphm"
   ]
  },
  {
   "cell_type": "markdown",
   "metadata": {},
   "source": [
    "\n",
    "Import PyPHM, numpy, pandas, and pathlib."
   ]
  },
  {
   "cell_type": "code",
   "execution_count": 2,
   "metadata": {},
   "outputs": [],
   "source": [
    "from pyphm.datasets.milling import MillingPrepMethodA\n",
    "import numpy as np\n",
    "import pandas as pd\n",
    "from pathlib import Path"
   ]
  },
  {
   "cell_type": "markdown",
   "metadata": {},
   "source": [
    "We will use `MillingPrepMethodA` to prepare the dataset. This method is similar to that described in Cheng et al. [cheng2019multisensory] and von Hahn et al. [].\n",
    "\n",
    "Instantiate the `MillingPrepMethodA` class. Dowload the dataset by setting `download` to `True`. Keep the sliding window length (`window_size`) to 64, and the amount each window moves (`stride`) to 64. These are also the default values, if you leave these variables blank."
   ]
  },
  {
   "cell_type": "code",
   "execution_count": 3,
   "metadata": {},
   "outputs": [
    {
     "name": "stdout",
     "output_type": "stream",
     "text": [
      "/home/tim/Documents/PyPHM/data/raw\n"
     ]
    }
   ],
   "source": [
    "# define the location of where the raw data folders will be kept.\n",
    "# e.g. the milling data will be in path_data_raw_folder/milling/ \n",
    "path_data_raw_folder = Path(Path.cwd().parent / 'data/raw/' )\n",
    "print(path_data_raw_folder)\n",
    "\n",
    "# create the path_data_raw_folder if it does not exist\n",
    "path_data_raw_folder.mkdir(parents=True, exist_ok=True)\n",
    "\n",
    "# instantiate the MillingPrepMethodA class and download data if it does not exist\n",
    "mill = MillingPrepMethodA(root=path_data_raw_folder, download=True)"
   ]
  },
  {
   "cell_type": "markdown",
   "metadata": {},
   "source": [
    "## Create Numpy Arrays\n",
    "With the dataprep class instantiated, we can now prepare the dataset by calling methods from the class.\n",
    "\n",
    "First, let's call the `create_xy_arrays` method. This will create two numpy arrays. The `x` array contains the windowed signals from the milling machine. The `y` array contains the labels and meta-data for each window."
   ]
  },
  {
   "cell_type": "code",
   "execution_count": 4,
   "metadata": {},
   "outputs": [
    {
     "name": "stdout",
     "output_type": "stream",
     "text": [
      "x.shape (11570, 64, 6)\n",
      "y.shape (11570, 64, 3)\n"
     ]
    }
   ],
   "source": [
    "x, y = mill.create_xy_arrays()\n",
    "print(\"x.shape\", x.shape)\n",
    "print(\"y.shape\", y.shape)"
   ]
  },
  {
   "cell_type": "markdown",
   "metadata": {},
   "source": [
    "As can be seen, the `x` array has a shape of `(11570, 64, 6)`, representing `[no. samples, window length, no. signals]`. \n",
    "\n",
    "There are six signals in each sample (you can read more about the types of signals in the Data Exploration section, below). From index 0, to index 5, the signals are:"
   ]
  },
  {
   "cell_type": "code",
   "execution_count": 5,
   "metadata": {},
   "outputs": [
    {
     "data": {
      "text/plain": [
       "('AE_spindle', 'AE_table', 'vib_spindle', 'vib_table', 'smcDC', 'smcAC')"
      ]
     },
     "execution_count": 5,
     "metadata": {},
     "output_type": "execute_result"
    }
   ],
   "source": [
    "mill.signal_names"
   ]
  },
  {
   "cell_type": "markdown",
   "metadata": {},
   "source": [
    "If you want to access the spindle vibration (`vib_spindle`) signal, you can index the numpy array like this:"
   ]
  },
  {
   "cell_type": "code",
   "execution_count": 6,
   "metadata": {},
   "outputs": [
    {
     "data": {
      "text/plain": [
       "(11570, 64)"
      ]
     },
     "execution_count": 6,
     "metadata": {},
     "output_type": "execute_result"
    }
   ],
   "source": [
    "# index into the 'vib_spindle' signal and show the shape\n",
    "x[:,:,2].shape"
   ]
  },
  {
   "cell_type": "markdown",
   "metadata": {},
   "source": [
    "The `y` array has a similar shape to `x`, but instead of signals, it contains the label and meta-data for each window. The shape of `y` is like this: `[no. samples, window length, no. label columns]`.\n",
    "\n",
    "There are three label columns in `y_labels_ids_times`:\n",
    "* Label column 1 (index 0): The label, or tool class, for each sample (window). Either `0` for healthy, `1` for degraded, or `2` for worn (failed). More details provided in the Data Exploration section.\n",
    "* Label column 2 (index 1): The ID of the sample. e.g. `1_0` for the first sample of the first window.\n",
    "* Label column 3 (index 2): The timesteps for each data point in each sample.\n",
    "\n",
    "To access the label for each sample, you can index the `y` array like this:"
   ]
  },
  {
   "cell_type": "code",
   "execution_count": 7,
   "metadata": {},
   "outputs": [
    {
     "name": "stdout",
     "output_type": "stream",
     "text": [
      "y_label.shape (11570,)\n"
     ]
    },
    {
     "data": {
      "text/plain": [
       "array(['0', '0', '0', ..., '1', '1', '1'], dtype='<U32')"
      ]
     },
     "execution_count": 7,
     "metadata": {},
     "output_type": "execute_result"
    }
   ],
   "source": [
    "# use the colon in the first index to get all of the 11570 samples\n",
    "# use 0 in the second index to only get the first label for each data point of each sample\n",
    "# use 0 in the third index to get the label (either 0, 1, or 2)\n",
    "y_label = y[:,0,0]\n",
    "print(\"y_label.shape\", y_label.shape)\n",
    "y_label"
   ]
  },
  {
   "cell_type": "markdown",
   "metadata": {},
   "source": [
    "The data in the `y` array is stored with a dtype of `<u32`, a unicode string. You likely want to convert the label column to an integer, like this:"
   ]
  },
  {
   "cell_type": "code",
   "execution_count": 8,
   "metadata": {},
   "outputs": [
    {
     "data": {
      "text/plain": [
       "array([0, 0, 0, ..., 1, 1, 1])"
      ]
     },
     "execution_count": 8,
     "metadata": {},
     "output_type": "execute_result"
    }
   ],
   "source": [
    "y_label.astype(int)"
   ]
  },
  {
   "cell_type": "markdown",
   "metadata": {},
   "source": [
    "In this example, each window (sample) has a length of 64. The signals are collected at 250 Hz. This means that the timesteps are spaced by 1/250 = 0.004 seconds. Here are the timesteps, which we access from index 2 of the `y` array:"
   ]
  },
  {
   "cell_type": "code",
   "execution_count": 9,
   "metadata": {},
   "outputs": [
    {
     "data": {
      "text/plain": [
       "array([0.   , 0.004, 0.008, 0.012, 0.016, 0.02 , 0.024, 0.028, 0.032,\n",
       "       0.036, 0.04 , 0.044, 0.048, 0.052, 0.056, 0.06 , 0.064, 0.068,\n",
       "       0.072, 0.076, 0.08 , 0.084, 0.088, 0.092, 0.096, 0.1  , 0.104,\n",
       "       0.108, 0.112, 0.116, 0.12 , 0.124, 0.128, 0.132, 0.136, 0.14 ,\n",
       "       0.144, 0.148, 0.152, 0.156, 0.16 , 0.164, 0.168, 0.172, 0.176,\n",
       "       0.18 , 0.184, 0.188, 0.192, 0.196, 0.2  , 0.204, 0.208, 0.212,\n",
       "       0.216, 0.22 , 0.224, 0.228, 0.232, 0.236, 0.24 , 0.244, 0.248,\n",
       "       0.252])"
      ]
     },
     "execution_count": 9,
     "metadata": {},
     "output_type": "execute_result"
    }
   ],
   "source": [
    "# show the timestep column, converted to `float` first\n",
    "y[0,:,2].astype(float)"
   ]
  },
  {
   "cell_type": "markdown",
   "metadata": {},
   "source": [
    "## Create Pandas Dataframe\n",
    "The method, `create_xy_dataframe`, creates a flat pandas dataframe from the above `x` and `y` arrays. This flat dataframe is amenable to feature engineering using the [tsfresh](https://github.com/blue-yonder/tsfresh) feature engineering library.\n",
    "\n",
    "Let's call the `create_xy_dataframe` method."
   ]
  },
  {
   "cell_type": "code",
   "execution_count": 10,
   "metadata": {},
   "outputs": [
    {
     "data": {
      "text/html": [
       "<div>\n",
       "<style scoped>\n",
       "    .dataframe tbody tr th:only-of-type {\n",
       "        vertical-align: middle;\n",
       "    }\n",
       "\n",
       "    .dataframe tbody tr th {\n",
       "        vertical-align: top;\n",
       "    }\n",
       "\n",
       "    .dataframe thead th {\n",
       "        text-align: right;\n",
       "    }\n",
       "</style>\n",
       "<table border=\"1\" class=\"dataframe\">\n",
       "  <thead>\n",
       "    <tr style=\"text-align: right;\">\n",
       "      <th></th>\n",
       "      <th>cut_id</th>\n",
       "      <th>cut_no</th>\n",
       "      <th>case</th>\n",
       "      <th>time</th>\n",
       "      <th>ae_spindle</th>\n",
       "      <th>ae_table</th>\n",
       "      <th>vib_spindle</th>\n",
       "      <th>vib_table</th>\n",
       "      <th>smcdc</th>\n",
       "      <th>smcac</th>\n",
       "      <th>tool_class</th>\n",
       "    </tr>\n",
       "  </thead>\n",
       "  <tbody>\n",
       "    <tr>\n",
       "      <th>0</th>\n",
       "      <td>0_0</td>\n",
       "      <td>0</td>\n",
       "      <td>1</td>\n",
       "      <td>0.000</td>\n",
       "      <td>0.219727</td>\n",
       "      <td>0.272827</td>\n",
       "      <td>0.733643</td>\n",
       "      <td>2.116699</td>\n",
       "      <td>6.840820</td>\n",
       "      <td>0.124512</td>\n",
       "      <td>0</td>\n",
       "    </tr>\n",
       "    <tr>\n",
       "      <th>1</th>\n",
       "      <td>0_0</td>\n",
       "      <td>0</td>\n",
       "      <td>1</td>\n",
       "      <td>0.004</td>\n",
       "      <td>0.246582</td>\n",
       "      <td>0.322266</td>\n",
       "      <td>0.778809</td>\n",
       "      <td>2.277832</td>\n",
       "      <td>6.660156</td>\n",
       "      <td>-0.561523</td>\n",
       "      <td>0</td>\n",
       "    </tr>\n",
       "    <tr>\n",
       "      <th>2</th>\n",
       "      <td>0_0</td>\n",
       "      <td>0</td>\n",
       "      <td>1</td>\n",
       "      <td>0.008</td>\n",
       "      <td>0.294189</td>\n",
       "      <td>0.283813</td>\n",
       "      <td>0.758057</td>\n",
       "      <td>2.343750</td>\n",
       "      <td>6.508789</td>\n",
       "      <td>-2.099609</td>\n",
       "      <td>0</td>\n",
       "    </tr>\n",
       "    <tr>\n",
       "      <th>3</th>\n",
       "      <td>0_0</td>\n",
       "      <td>0</td>\n",
       "      <td>1</td>\n",
       "      <td>0.012</td>\n",
       "      <td>0.323486</td>\n",
       "      <td>0.260010</td>\n",
       "      <td>0.726318</td>\n",
       "      <td>2.448730</td>\n",
       "      <td>6.542969</td>\n",
       "      <td>-2.731934</td>\n",
       "      <td>0</td>\n",
       "    </tr>\n",
       "    <tr>\n",
       "      <th>4</th>\n",
       "      <td>0_0</td>\n",
       "      <td>0</td>\n",
       "      <td>1</td>\n",
       "      <td>0.016</td>\n",
       "      <td>0.290527</td>\n",
       "      <td>0.253296</td>\n",
       "      <td>0.653076</td>\n",
       "      <td>2.546387</td>\n",
       "      <td>6.621094</td>\n",
       "      <td>-3.505859</td>\n",
       "      <td>0</td>\n",
       "    </tr>\n",
       "  </tbody>\n",
       "</table>\n",
       "</div>"
      ],
      "text/plain": [
       "  cut_id  cut_no  case   time  ae_spindle  ae_table  vib_spindle  vib_table  \\\n",
       "0    0_0       0     1  0.000    0.219727  0.272827     0.733643   2.116699   \n",
       "1    0_0       0     1  0.004    0.246582  0.322266     0.778809   2.277832   \n",
       "2    0_0       0     1  0.008    0.294189  0.283813     0.758057   2.343750   \n",
       "3    0_0       0     1  0.012    0.323486  0.260010     0.726318   2.448730   \n",
       "4    0_0       0     1  0.016    0.290527  0.253296     0.653076   2.546387   \n",
       "\n",
       "      smcdc     smcac  tool_class  \n",
       "0  6.840820  0.124512           0  \n",
       "1  6.660156 -0.561523           0  \n",
       "2  6.508789 -2.099609           0  \n",
       "3  6.542969 -2.731934           0  \n",
       "4  6.621094 -3.505859           0  "
      ]
     },
     "execution_count": 10,
     "metadata": {},
     "output_type": "execute_result"
    }
   ],
   "source": [
    "df = mill.create_xy_dataframe()\n",
    "df.head()"
   ]
  },
  {
   "cell_type": "markdown",
   "metadata": {},
   "source": [
    "You can look at the shape of the dataframe and see that it is quite long. The dataframe is each sample stacked ontop of each other."
   ]
  },
  {
   "cell_type": "code",
   "execution_count": 11,
   "metadata": {},
   "outputs": [
    {
     "data": {
      "text/plain": [
       "(740480, 11)"
      ]
     },
     "execution_count": 11,
     "metadata": {},
     "output_type": "execute_result"
    }
   ],
   "source": [
    "df.shape"
   ]
  },
  {
   "cell_type": "markdown",
   "metadata": {},
   "source": [
    "Now we can slice and dice the dataframe, using pandas, to get what you want.\n",
    "\n",
    "Let's select the cut number 56 from the dataframe."
   ]
  },
  {
   "cell_type": "code",
   "execution_count": 12,
   "metadata": {},
   "outputs": [
    {
     "data": {
      "text/html": [
       "<div>\n",
       "<style scoped>\n",
       "    .dataframe tbody tr th:only-of-type {\n",
       "        vertical-align: middle;\n",
       "    }\n",
       "\n",
       "    .dataframe tbody tr th {\n",
       "        vertical-align: top;\n",
       "    }\n",
       "\n",
       "    .dataframe thead th {\n",
       "        text-align: right;\n",
       "    }\n",
       "</style>\n",
       "<table border=\"1\" class=\"dataframe\">\n",
       "  <thead>\n",
       "    <tr style=\"text-align: right;\">\n",
       "      <th></th>\n",
       "      <th>cut_id</th>\n",
       "      <th>cut_no</th>\n",
       "      <th>case</th>\n",
       "      <th>time</th>\n",
       "      <th>ae_spindle</th>\n",
       "      <th>ae_table</th>\n",
       "      <th>vib_spindle</th>\n",
       "      <th>vib_table</th>\n",
       "      <th>smcdc</th>\n",
       "      <th>smcac</th>\n",
       "      <th>tool_class</th>\n",
       "    </tr>\n",
       "  </thead>\n",
       "  <tbody>\n",
       "    <tr>\n",
       "      <th>248064</th>\n",
       "      <td>56_0</td>\n",
       "      <td>56</td>\n",
       "      <td>9</td>\n",
       "      <td>0.000</td>\n",
       "      <td>0.269775</td>\n",
       "      <td>0.234985</td>\n",
       "      <td>0.312500</td>\n",
       "      <td>1.179199</td>\n",
       "      <td>9.995117</td>\n",
       "      <td>-0.571289</td>\n",
       "      <td>1</td>\n",
       "    </tr>\n",
       "    <tr>\n",
       "      <th>248065</th>\n",
       "      <td>56_0</td>\n",
       "      <td>56</td>\n",
       "      <td>9</td>\n",
       "      <td>0.004</td>\n",
       "      <td>0.339966</td>\n",
       "      <td>0.256348</td>\n",
       "      <td>0.288086</td>\n",
       "      <td>1.093750</td>\n",
       "      <td>9.995117</td>\n",
       "      <td>-1.445312</td>\n",
       "      <td>1</td>\n",
       "    </tr>\n",
       "    <tr>\n",
       "      <th>248066</th>\n",
       "      <td>56_0</td>\n",
       "      <td>56</td>\n",
       "      <td>9</td>\n",
       "      <td>0.008</td>\n",
       "      <td>0.349121</td>\n",
       "      <td>0.280762</td>\n",
       "      <td>0.305176</td>\n",
       "      <td>1.259766</td>\n",
       "      <td>9.995117</td>\n",
       "      <td>-2.775879</td>\n",
       "      <td>1</td>\n",
       "    </tr>\n",
       "    <tr>\n",
       "      <th>248067</th>\n",
       "      <td>56_0</td>\n",
       "      <td>56</td>\n",
       "      <td>9</td>\n",
       "      <td>0.012</td>\n",
       "      <td>0.352173</td>\n",
       "      <td>0.241699</td>\n",
       "      <td>0.297852</td>\n",
       "      <td>1.298828</td>\n",
       "      <td>9.995117</td>\n",
       "      <td>-3.122559</td>\n",
       "      <td>1</td>\n",
       "    </tr>\n",
       "    <tr>\n",
       "      <th>248068</th>\n",
       "      <td>56_0</td>\n",
       "      <td>56</td>\n",
       "      <td>9</td>\n",
       "      <td>0.016</td>\n",
       "      <td>0.322266</td>\n",
       "      <td>0.238647</td>\n",
       "      <td>0.311279</td>\n",
       "      <td>1.162109</td>\n",
       "      <td>9.995117</td>\n",
       "      <td>-3.994141</td>\n",
       "      <td>1</td>\n",
       "    </tr>\n",
       "  </tbody>\n",
       "</table>\n",
       "</div>"
      ],
      "text/plain": [
       "       cut_id  cut_no  case   time  ae_spindle  ae_table  vib_spindle  \\\n",
       "248064   56_0      56     9  0.000    0.269775  0.234985     0.312500   \n",
       "248065   56_0      56     9  0.004    0.339966  0.256348     0.288086   \n",
       "248066   56_0      56     9  0.008    0.349121  0.280762     0.305176   \n",
       "248067   56_0      56     9  0.012    0.352173  0.241699     0.297852   \n",
       "248068   56_0      56     9  0.016    0.322266  0.238647     0.311279   \n",
       "\n",
       "        vib_table     smcdc     smcac  tool_class  \n",
       "248064   1.179199  9.995117 -0.571289           1  \n",
       "248065   1.093750  9.995117 -1.445312           1  \n",
       "248066   1.259766  9.995117 -2.775879           1  \n",
       "248067   1.298828  9.995117 -3.122559           1  \n",
       "248068   1.162109  9.995117 -3.994141           1  "
      ]
     },
     "execution_count": 12,
     "metadata": {},
     "output_type": "execute_result"
    }
   ],
   "source": [
    "df[df['cut_no'] == 56].head()"
   ]
  },
  {
   "cell_type": "markdown",
   "metadata": {},
   "source": [
    "In the Data Exploration section we'll discuss what the `cut_no`, `case`, and the various signal columns are."
   ]
  },
  {
   "cell_type": "markdown",
   "metadata": {},
   "source": [
    "# Data Exploration\n",
    "Let's explore the UC-Berkeley Milling Dataset in detail. First, we should understand what milling is.\n",
    "\n",
    "## What is milling?\n",
    "\n",
    "In milling, a rotary cutter removes material as it moves along a work piece. Most often, milling is performed on metal – it's metal machining – and that’s what is happening in the UC Berkeley milling dataset.    \n",
    "\n",
    "The picture below demonstrates a face milling procedure. The cutter is progressed forward while rotating. As the cutter rotates, the tool inserts “bite” into the metal and remove it. (image modified from [Wikipedia](https://commons.wikimedia.org/wiki/File:Fraisage_surfacage.svg#/media/File:Fraisage_surfacage.svg))\n",
    "\n",
    "![face milling](./images/face_milling.png)\n",
    "\n",
    "Over time, the tool inserts wear. Specifically, the flank of the tool wears, as shown below (image from author). In the UC Berkeley milling data set the flank wear (VB) is measured as the tool wears.\n",
    "\n",
    "![flank wear](./images/flank_wear.png)\n",
    "\n",
    "## Dataset Structure\n",
    "Of course, the PyPHM module absracts aways the complexity of loading and preprocessing the dataset. However, it is good for us to understand the structure of the dataset. To do that, we'll load the dataset manually.\n",
    "\n",
    "The UC Berkeley milling dataset is contained in a structured MATLAB array. We can load the .mat file using the scipy.io module and the loadmat function.\n",
    "\n",
    "Since we have already downloaded the dataset, we can load it from the local directory."
   ]
  },
  {
   "cell_type": "code",
   "execution_count": 13,
   "metadata": {},
   "outputs": [],
   "source": [
    "# import matplotlib, seaborn, and scipy\n",
    "import matplotlib.pyplot as plt\n",
    "import seaborn as sns\n",
    "import scipy.io as sio # for reading matlab files\n",
    "\n",
    "# load the data from the matlab file\n",
    "mill_matfile = sio.loadmat(path_data_raw_folder / 'milling' / 'mill.mat',struct_as_record=True)"
   ]
  },
  {
   "cell_type": "markdown",
   "metadata": {},
   "source": [
    "The data is stored as a dictionary. Let's look to see what it is made of."
   ]
  },
  {
   "cell_type": "code",
   "execution_count": 14,
   "metadata": {},
   "outputs": [
    {
     "name": "stdout",
     "output_type": "stream",
     "text": [
      "Keys in the matlab dict file: \n",
      " dict_keys(['__header__', '__version__', '__globals__', 'mill']) \n",
      "\n"
     ]
    }
   ],
   "source": [
    "# show some of the info from the matlab file\n",
    "print('Keys in the matlab dict file: \\n', mill_matfile.keys(), '\\n')"
   ]
  },
  {
   "cell_type": "markdown",
   "metadata": {},
   "source": [
    "Only the 'mill' part of the dictionary contains useful information. We'll put that in a new numpy array called 'data."
   ]
  },
  {
   "cell_type": "code",
   "execution_count": 15,
   "metadata": {},
   "outputs": [
    {
     "name": "stdout",
     "output_type": "stream",
     "text": [
      "<class 'numpy.ndarray'>\n"
     ]
    }
   ],
   "source": [
    "# check to see what m['mill'] is\n",
    "print(type(mill_matfile['mill']))\n",
    "\n",
    "# store the 'mill' data in a seperate np array\n",
    "data = mill_matfile['mill']"
   ]
  },
  {
   "cell_type": "markdown",
   "metadata": {},
   "source": [
    "This raw \"data\" array can also be accessed through the `MillingPrepMethodA` by calling the `load_mat` method. Let's do that and use it going forward."
   ]
  },
  {
   "cell_type": "code",
   "execution_count": 16,
   "metadata": {},
   "outputs": [],
   "source": [
    "data = mill.load_mat()"
   ]
  },
  {
   "cell_type": "markdown",
   "metadata": {},
   "source": [
    "We now want to see what the 'data' array is made up of."
   ]
  },
  {
   "cell_type": "code",
   "execution_count": 17,
   "metadata": {},
   "outputs": [
    {
     "name": "stdout",
     "output_type": "stream",
     "text": [
      "List of the field names:\n",
      " ('case', 'run', 'VB', 'time', 'DOC', 'feed', 'material', 'smcAC', 'smcDC', 'vib_table', 'vib_spindle', 'AE_table', 'AE_spindle')\n"
     ]
    }
   ],
   "source": [
    "# store the field names in the data np array in a tuple, l\n",
    "l = data.dtype.names\n",
    "print('List of the field names:\\n',l)"
   ]
  },
  {
   "cell_type": "markdown",
   "metadata": {},
   "source": [
    "Here's more information on each of the fields in the 'data' array:\n",
    "\n",
    "* `case` - The case number (from 1 to 16).\n",
    "* `run` - The run number (from 1 to 167).\n",
    "* `VB` - The measured flank wear, in mm.\n",
    "* `time` - Cumulative duration of after each run, in minutes (restarts after each case).\n",
    "* `DOC` - The depth of cut, in mm (either 0.75 mm or 1.5 mm)\n",
    "* `feed` - The feed rate, in mm/rev (either 0.25 mm/rev or 0.5 mm/rev)\n",
    "* `material` - The material used (either cast iron or steel, labelled as 1 or 2 in the data set, respectively)\n",
    "* `smAC` - AC spindle motor current\n",
    "* `smDC` - DC spindle motor current\n",
    "* `vib_table` - Table vibration\n",
    "* `vib_spindle` - Spindle vibration\n",
    "* `AE_table` - Acoustic emission from the table\n",
    "* `AE_spindle` - Acoustic emission from the spindle\n",
    "\n",
    "Of course, we need the raw signal data from the spindle motors, vibrations etc. However, we also need the labels for each sample and the meta-data surrounding it.\n",
    "\n",
    "The `create_labels` method in the `MillingPrepMethodA` class creates a table of the labels for each sample. However, let's be explicit -- we'll recreate the same function here so we can learn from it."
   ]
  },
  {
   "cell_type": "code",
   "execution_count": 20,
   "metadata": {},
   "outputs": [
    {
     "data": {
      "text/plain": [
       "('case',\n",
       " 'run',\n",
       " 'VB',\n",
       " 'time',\n",
       " 'DOC',\n",
       " 'feed',\n",
       " 'material',\n",
       " 'smcAC',\n",
       " 'smcDC',\n",
       " 'vib_table',\n",
       " 'vib_spindle',\n",
       " 'AE_table',\n",
       " 'AE_spindle')"
      ]
     },
     "execution_count": 20,
     "metadata": {},
     "output_type": "execute_result"
    }
   ],
   "source": [
    "field_names = data.dtype.names\n",
    "field_names"
   ]
  },
  {
   "cell_type": "code",
   "execution_count": 22,
   "metadata": {},
   "outputs": [
    {
     "data": {
      "text/html": [
       "<div>\n",
       "<style scoped>\n",
       "    .dataframe tbody tr th:only-of-type {\n",
       "        vertical-align: middle;\n",
       "    }\n",
       "\n",
       "    .dataframe tbody tr th {\n",
       "        vertical-align: top;\n",
       "    }\n",
       "\n",
       "    .dataframe thead th {\n",
       "        text-align: right;\n",
       "    }\n",
       "</style>\n",
       "<table border=\"1\" class=\"dataframe\">\n",
       "  <thead>\n",
       "    <tr style=\"text-align: right;\">\n",
       "      <th></th>\n",
       "      <th>case</th>\n",
       "      <th>run</th>\n",
       "      <th>VB</th>\n",
       "      <th>time</th>\n",
       "      <th>DOC</th>\n",
       "      <th>feed</th>\n",
       "      <th>material</th>\n",
       "      <th>cut_no</th>\n",
       "    </tr>\n",
       "  </thead>\n",
       "  <tbody>\n",
       "    <tr>\n",
       "      <th>0</th>\n",
       "      <td>1</td>\n",
       "      <td>1</td>\n",
       "      <td>0.00</td>\n",
       "      <td>2</td>\n",
       "      <td>1.5</td>\n",
       "      <td>0.5</td>\n",
       "      <td>1</td>\n",
       "      <td>0</td>\n",
       "    </tr>\n",
       "    <tr>\n",
       "      <th>1</th>\n",
       "      <td>1</td>\n",
       "      <td>2</td>\n",
       "      <td>NaN</td>\n",
       "      <td>4</td>\n",
       "      <td>1.5</td>\n",
       "      <td>0.5</td>\n",
       "      <td>1</td>\n",
       "      <td>1</td>\n",
       "    </tr>\n",
       "    <tr>\n",
       "      <th>2</th>\n",
       "      <td>1</td>\n",
       "      <td>3</td>\n",
       "      <td>NaN</td>\n",
       "      <td>6</td>\n",
       "      <td>1.5</td>\n",
       "      <td>0.5</td>\n",
       "      <td>1</td>\n",
       "      <td>2</td>\n",
       "    </tr>\n",
       "    <tr>\n",
       "      <th>3</th>\n",
       "      <td>1</td>\n",
       "      <td>4</td>\n",
       "      <td>0.11</td>\n",
       "      <td>7</td>\n",
       "      <td>1.5</td>\n",
       "      <td>0.5</td>\n",
       "      <td>1</td>\n",
       "      <td>3</td>\n",
       "    </tr>\n",
       "    <tr>\n",
       "      <th>4</th>\n",
       "      <td>1</td>\n",
       "      <td>5</td>\n",
       "      <td>NaN</td>\n",
       "      <td>11</td>\n",
       "      <td>1.5</td>\n",
       "      <td>0.5</td>\n",
       "      <td>1</td>\n",
       "      <td>4</td>\n",
       "    </tr>\n",
       "  </tbody>\n",
       "</table>\n",
       "</div>"
      ],
      "text/plain": [
       "   case  run    VB  time  DOC  feed  material  cut_no\n",
       "0     1    1  0.00     2  1.5   0.5         1       0\n",
       "1     1    2   NaN     4  1.5   0.5         1       1\n",
       "2     1    3   NaN     6  1.5   0.5         1       2\n",
       "3     1    4  0.11     7  1.5   0.5         1       3\n",
       "4     1    5   NaN    11  1.5   0.5         1       4"
      ]
     },
     "execution_count": 22,
     "metadata": {},
     "output_type": "execute_result"
    }
   ],
   "source": [
    "# store the field names in the data np array in a tuple\n",
    "field_names = data.dtype.names\n",
    "\n",
    "# create empty dataframe for the labels\n",
    "df_labels = pd.DataFrame()\n",
    "\n",
    "# get the labels from the original .mat file and put in dataframe\n",
    "for i in range(7):\n",
    "    # list for storing the label data for each field\n",
    "    x = []\n",
    "\n",
    "    # iterate through each of the unique cuts\n",
    "    for j in range(167):\n",
    "        x.append(data[0, j][i][0][0])\n",
    "    x = np.array(x)\n",
    "    df_labels[str(i)] = x\n",
    "\n",
    "# add column names to the dataframe\n",
    "df_labels.columns = field_names[0:7]\n",
    "\n",
    "# create a column with the unique cut number\n",
    "df_labels[\"cut_no\"] = [i for i in range(167)]\n",
    "\n",
    "df_labels.head()"
   ]
  },
  {
   "cell_type": "markdown",
   "metadata": {},
   "source": [
    "You can see in the dataframe above, that there are several NaNs values for the wear (VB). That's ok. We can still create categorical labels for the wear. The categories will be:\n",
    "\n",
    "* Healthy Sate (label=0): 0~0.2mm flank wear\n",
    "* Degredation State (label=1): 0.2~0.7mm flank wear\n",
    "* Failure State (label=2): >0.7mm flank wear"
   ]
  },
  {
   "cell_type": "code",
   "execution_count": 18,
   "metadata": {},
   "outputs": [
    {
     "data": {
      "text/plain": [
       "167"
      ]
     },
     "execution_count": 18,
     "metadata": {},
     "output_type": "execute_result"
    }
   ],
   "source": [
    "def tool_state(cols):\n",
    "    \"\"\"Add the label to the cut.\"\"\"\n",
    "    vb = cols\n",
    "\n",
    "    if vb < 0.2:\n",
    "        return 0\n",
    "    elif vb >= 0.2 and vb < 0.7:\n",
    "        return 1\n",
    "    elif pd.isnull(vb):\n",
    "        pass\n",
    "    else:\n",
    "        return 2\n",
    "\n",
    "# apply the label to the dataframe\n",
    "df_labels[\"tool_class\"] = df_labels[\"VB\"].apply(tool_state)"
   ]
  }
 ],
 "metadata": {
  "interpreter": {
   "hash": "a445fd1dd59e042f3702a5878c89afe1dbbe900f3b58e4a7756e0c9feaaac4f1"
  },
  "kernelspec": {
   "display_name": "Python 3.8.12 64-bit ('ganzoo': conda)",
   "language": "python",
   "name": "python3"
  },
  "language_info": {
   "codemirror_mode": {
    "name": "ipython",
    "version": 3
   },
   "file_extension": ".py",
   "mimetype": "text/x-python",
   "name": "python",
   "nbconvert_exporter": "python",
   "pygments_lexer": "ipython3",
   "version": "3.8.12"
  },
  "orig_nbformat": 4
 },
 "nbformat": 4,
 "nbformat_minor": 2
}
