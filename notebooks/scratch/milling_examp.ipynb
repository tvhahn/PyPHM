{
 "cells": [
  {
   "cell_type": "code",
   "execution_count": 1,
   "metadata": {},
   "outputs": [],
   "source": [
    "from pyphm.datasets.milling import MillingDataLoad, MillingPrepMethodA\n",
    "import pandas as pd\n",
    "from pathlib import Path\n",
    "\n",
    "%load_ext autoreload\n",
    "%autoreload 2"
   ]
  },
  {
   "cell_type": "code",
   "execution_count": 2,
   "metadata": {},
   "outputs": [
    {
     "name": "stdout",
     "output_type": "stream",
     "text": [
      "root_dir:  /home/tim/Documents/PyPHM\n",
      "path_data_raw_folder:  /home/tim/Documents/PyPHM/data\n"
     ]
    }
   ],
   "source": [
    "root_dir = Path.cwd().parent\n",
    "print('root_dir: ', root_dir)\n",
    "path_data_raw_folder = Path(root_dir / 'data' )\n",
    "print('path_data_raw_folder: ', path_data_raw_folder)"
   ]
  },
  {
   "cell_type": "code",
   "execution_count": 3,
   "metadata": {},
   "outputs": [],
   "source": [
    "mill = MillingPrepMethodA(root=path_data_raw_folder, dataset_folder_name='milling', window_size=64, stride=64, cut_drop_list=[17, 94], download=False)"
   ]
  },
  {
   "cell_type": "code",
   "execution_count": 4,
   "metadata": {},
   "outputs": [
    {
     "data": {
      "text/plain": [
       "PosixPath('/home/tim/Documents/PyPHM/data/milling')"
      ]
     },
     "execution_count": 4,
     "metadata": {},
     "output_type": "execute_result"
    }
   ],
   "source": [
    "mill.dataset_folder_path"
   ]
  },
  {
   "cell_type": "code",
   "execution_count": 5,
   "metadata": {},
   "outputs": [
    {
     "name": "stdout",
     "output_type": "stream",
     "text": [
      "x.shape (11570, 64, 6)\n",
      "y.shape (11570, 64, 3)\n"
     ]
    }
   ],
   "source": [
    "x, y = mill.create_xy_arrays()\n",
    "print(\"x.shape\", x.shape)\n",
    "print(\"y.shape\", y.shape)"
   ]
  },
  {
   "cell_type": "code",
   "execution_count": 9,
   "metadata": {},
   "outputs": [
    {
     "data": {
      "text/html": [
       "<div>\n",
       "<style scoped>\n",
       "    .dataframe tbody tr th:only-of-type {\n",
       "        vertical-align: middle;\n",
       "    }\n",
       "\n",
       "    .dataframe tbody tr th {\n",
       "        vertical-align: top;\n",
       "    }\n",
       "\n",
       "    .dataframe thead th {\n",
       "        text-align: right;\n",
       "    }\n",
       "</style>\n",
       "<table border=\"1\" class=\"dataframe\">\n",
       "  <thead>\n",
       "    <tr style=\"text-align: right;\">\n",
       "      <th></th>\n",
       "      <th>cut_id</th>\n",
       "      <th>cut_no</th>\n",
       "      <th>case</th>\n",
       "      <th>time</th>\n",
       "      <th>ae_spindle</th>\n",
       "      <th>ae_table</th>\n",
       "      <th>vib_spindle</th>\n",
       "      <th>vib_table</th>\n",
       "      <th>smcdc</th>\n",
       "      <th>smcac</th>\n",
       "      <th>tool_class</th>\n",
       "    </tr>\n",
       "  </thead>\n",
       "  <tbody>\n",
       "    <tr>\n",
       "      <th>0</th>\n",
       "      <td>0_0</td>\n",
       "      <td>0</td>\n",
       "      <td>1</td>\n",
       "      <td>0.000</td>\n",
       "      <td>0.219727</td>\n",
       "      <td>0.272827</td>\n",
       "      <td>0.733643</td>\n",
       "      <td>2.116699</td>\n",
       "      <td>6.840820</td>\n",
       "      <td>0.124512</td>\n",
       "      <td>0</td>\n",
       "    </tr>\n",
       "    <tr>\n",
       "      <th>1</th>\n",
       "      <td>0_0</td>\n",
       "      <td>0</td>\n",
       "      <td>1</td>\n",
       "      <td>0.004</td>\n",
       "      <td>0.246582</td>\n",
       "      <td>0.322266</td>\n",
       "      <td>0.778809</td>\n",
       "      <td>2.277832</td>\n",
       "      <td>6.660156</td>\n",
       "      <td>-0.561523</td>\n",
       "      <td>0</td>\n",
       "    </tr>\n",
       "    <tr>\n",
       "      <th>2</th>\n",
       "      <td>0_0</td>\n",
       "      <td>0</td>\n",
       "      <td>1</td>\n",
       "      <td>0.008</td>\n",
       "      <td>0.294189</td>\n",
       "      <td>0.283813</td>\n",
       "      <td>0.758057</td>\n",
       "      <td>2.343750</td>\n",
       "      <td>6.508789</td>\n",
       "      <td>-2.099609</td>\n",
       "      <td>0</td>\n",
       "    </tr>\n",
       "    <tr>\n",
       "      <th>3</th>\n",
       "      <td>0_0</td>\n",
       "      <td>0</td>\n",
       "      <td>1</td>\n",
       "      <td>0.012</td>\n",
       "      <td>0.323486</td>\n",
       "      <td>0.260010</td>\n",
       "      <td>0.726318</td>\n",
       "      <td>2.448730</td>\n",
       "      <td>6.542969</td>\n",
       "      <td>-2.731934</td>\n",
       "      <td>0</td>\n",
       "    </tr>\n",
       "    <tr>\n",
       "      <th>4</th>\n",
       "      <td>0_0</td>\n",
       "      <td>0</td>\n",
       "      <td>1</td>\n",
       "      <td>0.016</td>\n",
       "      <td>0.290527</td>\n",
       "      <td>0.253296</td>\n",
       "      <td>0.653076</td>\n",
       "      <td>2.546387</td>\n",
       "      <td>6.621094</td>\n",
       "      <td>-3.505859</td>\n",
       "      <td>0</td>\n",
       "    </tr>\n",
       "  </tbody>\n",
       "</table>\n",
       "</div>"
      ],
      "text/plain": [
       "  cut_id  cut_no  case   time  ae_spindle  ae_table  vib_spindle  vib_table  \\\n",
       "0    0_0       0     1  0.000    0.219727  0.272827     0.733643   2.116699   \n",
       "1    0_0       0     1  0.004    0.246582  0.322266     0.778809   2.277832   \n",
       "2    0_0       0     1  0.008    0.294189  0.283813     0.758057   2.343750   \n",
       "3    0_0       0     1  0.012    0.323486  0.260010     0.726318   2.448730   \n",
       "4    0_0       0     1  0.016    0.290527  0.253296     0.653076   2.546387   \n",
       "\n",
       "      smcdc     smcac  tool_class  \n",
       "0  6.840820  0.124512           0  \n",
       "1  6.660156 -0.561523           0  \n",
       "2  6.508789 -2.099609           0  \n",
       "3  6.542969 -2.731934           0  \n",
       "4  6.621094 -3.505859           0  "
      ]
     },
     "execution_count": 9,
     "metadata": {},
     "output_type": "execute_result"
    }
   ],
   "source": [
    "df = mill.create_xy_dataframe()\n",
    "df.head()"
   ]
  },
  {
   "cell_type": "code",
   "execution_count": null,
   "metadata": {},
   "outputs": [],
   "source": []
  }
 ],
 "metadata": {
  "interpreter": {
   "hash": "daff1afd4d675d5e247c0a95a5de0c03bd87d8f7edee7cb37c539016070f1c16"
  },
  "kernelspec": {
   "display_name": "Python 3.8.12 64-bit ('featstore': conda)",
   "language": "python",
   "name": "python3"
  },
  "language_info": {
   "codemirror_mode": {
    "name": "ipython",
    "version": 3
   },
   "file_extension": ".py",
   "mimetype": "text/x-python",
   "name": "python",
   "nbconvert_exporter": "python",
   "pygments_lexer": "ipython3",
   "version": "3.8.12"
  },
  "orig_nbformat": 4
 },
 "nbformat": 4,
 "nbformat_minor": 2
}
