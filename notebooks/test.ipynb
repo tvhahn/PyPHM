{
 "cells": [
  {
   "cell_type": "code",
   "execution_count": 1,
   "metadata": {},
   "outputs": [],
   "source": [
    "import sys\n",
    "sys.path.append(r'/home/tim/Documents/PyPHM')\n",
    "from pyphm.datasets.utils import _urlretrieve"
   ]
  },
  {
   "cell_type": "code",
   "execution_count": 2,
   "metadata": {},
   "outputs": [
    {
     "name": "stderr",
     "output_type": "stream",
     "text": [
      "168960it [00:00, 6349801.57it/s]          \n"
     ]
    }
   ],
   "source": [
    "_urlretrieve('https://files.realpython.com/media/Python-Imports_Watermarked.ae72c8a00197.jpg', 'test.jpg')"
   ]
  },
  {
   "cell_type": "code",
   "execution_count": 2,
   "metadata": {},
   "outputs": [
    {
     "data": {
      "text/plain": [
       "['/home/tim/Documents/PyPHM/pyphm/notebooks',\n",
       " '/home/tim/.vscode/extensions/ms-toolsai.jupyter-2021.11.1001550889/pythonFiles',\n",
       " '/home/tim/.vscode/extensions/ms-toolsai.jupyter-2021.11.1001550889/pythonFiles/lib/python',\n",
       " '/home/tim/miniconda3/envs/ganzoo/lib/python38.zip',\n",
       " '/home/tim/miniconda3/envs/ganzoo/lib/python3.8',\n",
       " '/home/tim/miniconda3/envs/ganzoo/lib/python3.8/lib-dynload',\n",
       " '',\n",
       " '/home/tim/miniconda3/envs/ganzoo/lib/python3.8/site-packages',\n",
       " '/home/tim/Documents/Time-Series-GAN-Zoo',\n",
       " '/home/tim/miniconda3/envs/ganzoo/lib/python3.8/site-packages/IPython/extensions',\n",
       " '/home/tim/.ipython',\n",
       " '/home/tim/Documents/PyPHM']"
      ]
     },
     "execution_count": 2,
     "metadata": {},
     "output_type": "execute_result"
    }
   ],
   "source": [
    "sys.path.append(r'/home/tim/Documents/PyPHM')\n",
    "sys.path"
   ]
  },
  {
   "cell_type": "code",
   "execution_count": 3,
   "metadata": {},
   "outputs": [],
   "source": [
    "import pyphm"
   ]
  },
  {
   "cell_type": "code",
   "execution_count": null,
   "metadata": {},
   "outputs": [],
   "source": []
  }
 ],
 "metadata": {
  "interpreter": {
   "hash": "a445fd1dd59e042f3702a5878c89afe1dbbe900f3b58e4a7756e0c9feaaac4f1"
  },
  "kernelspec": {
   "display_name": "Python 3.8.12 64-bit ('ganzoo': conda)",
   "language": "python",
   "name": "python3"
  },
  "language_info": {
   "codemirror_mode": {
    "name": "ipython",
    "version": 3
   },
   "file_extension": ".py",
   "mimetype": "text/x-python",
   "name": "python",
   "nbconvert_exporter": "python",
   "pygments_lexer": "ipython3",
   "version": "3.8.12"
  },
  "orig_nbformat": 4
 },
 "nbformat": 4,
 "nbformat_minor": 2
}
