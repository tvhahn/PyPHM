{
 "cells": [
  {
   "cell_type": "code",
   "execution_count": 3,
   "metadata": {},
   "outputs": [],
   "source": [
    "import sys\n",
    "# sys.path.append(r'/home/tim/Documents/PyPHM')\n",
    "# from pyphm.datasets.utils import _urlretrieve\n",
    "from pathlib import Path\n",
    "import hashlib"
   ]
  },
  {
   "cell_type": "code",
   "execution_count": 4,
   "metadata": {},
   "outputs": [
    {
     "name": "stdout",
     "output_type": "stream",
     "text": [
      "c:\\_Python\\PyPHM\n"
     ]
    }
   ],
   "source": [
    "root_dir = Path.cwd().parent\n",
    "print(root_dir)\n",
    "path_data_raw_folder = Path(root_dir / 'data' / 'milling')"
   ]
  },
  {
   "cell_type": "code",
   "execution_count": 6,
   "metadata": {},
   "outputs": [
    {
     "ename": "ModuleNotFoundError",
     "evalue": "No module named 'pyphm'",
     "output_type": "error",
     "traceback": [
      "\u001b[1;31m---------------------------------------------------------------------------\u001b[0m",
      "\u001b[1;31mModuleNotFoundError\u001b[0m                       Traceback (most recent call last)",
      "\u001b[1;32m~\\AppData\\Local\\Temp/ipykernel_14188/22139510.py\u001b[0m in \u001b[0;36m<module>\u001b[1;34m\u001b[0m\n\u001b[0;32m      1\u001b[0m \u001b[0msys\u001b[0m\u001b[1;33m.\u001b[0m\u001b[0mpath\u001b[0m\u001b[1;33m.\u001b[0m\u001b[0mappend\u001b[0m\u001b[1;33m(\u001b[0m\u001b[0mroot_dir\u001b[0m \u001b[1;33m/\u001b[0m \u001b[1;34m'pyphm'\u001b[0m\u001b[1;33m)\u001b[0m\u001b[1;33m\u001b[0m\u001b[1;33m\u001b[0m\u001b[0m\n\u001b[1;32m----> 2\u001b[1;33m \u001b[1;32mfrom\u001b[0m \u001b[0mpyphm\u001b[0m\u001b[1;33m.\u001b[0m\u001b[0mdatasets\u001b[0m\u001b[1;33m.\u001b[0m\u001b[0mutils\u001b[0m \u001b[1;32mimport\u001b[0m \u001b[0m_urlretrieve\u001b[0m\u001b[1;33m\u001b[0m\u001b[1;33m\u001b[0m\u001b[0m\n\u001b[0m",
      "\u001b[1;31mModuleNotFoundError\u001b[0m: No module named 'pyphm'"
     ]
    }
   ],
   "source": [
    "sys.path.append(root_dir / 'pyphm')\n",
    "from pyphm.datasets.utils import _urlretrieve"
   ]
  },
  {
   "cell_type": "code",
   "execution_count": 5,
   "metadata": {},
   "outputs": [
    {
     "name": "stdout",
     "output_type": "stream",
     "text": [
      "81d821fdef812183a7d38b6f83f7cefa\n"
     ]
    }
   ],
   "source": [
    "def file_as_bytes(file):\n",
    "    with file:\n",
    "        return file.read()\n",
    "\n",
    "print(hashlib.md5(file_as_bytes(open(path_data_raw_folder / 'mill.zip', 'rb'))).hexdigest())"
   ]
  },
  {
   "cell_type": "code",
   "execution_count": 2,
   "metadata": {},
   "outputs": [
    {
     "name": "stderr",
     "output_type": "stream",
     "text": [
      "168960it [00:00, 5820599.28it/s]          \n"
     ]
    }
   ],
   "source": [
    "# _urlretrieve('https://files.realpython.com/media/Python-Imports_Watermarked.ae72c8a00197.jpg', 'test.jpg')"
   ]
  },
  {
   "cell_type": "code",
   "execution_count": 1,
   "metadata": {},
   "outputs": [
    {
     "data": {
      "text/plain": [
       "['/home/tim/Documents/PyPHM/notebooks',\n",
       " '/home/tim/.vscode/extensions/ms-toolsai.jupyter-2021.11.1001550889/pythonFiles',\n",
       " '/home/tim/.vscode/extensions/ms-toolsai.jupyter-2021.11.1001550889/pythonFiles/lib/python',\n",
       " '/home/tim/miniconda3/envs/ganzoo/lib/python38.zip',\n",
       " '/home/tim/miniconda3/envs/ganzoo/lib/python3.8',\n",
       " '/home/tim/miniconda3/envs/ganzoo/lib/python3.8/lib-dynload',\n",
       " '',\n",
       " '/home/tim/miniconda3/envs/ganzoo/lib/python3.8/site-packages',\n",
       " '/home/tim/Documents/Time-Series-GAN-Zoo',\n",
       " '/home/tim/miniconda3/envs/ganzoo/lib/python3.8/site-packages/IPython/extensions',\n",
       " '/home/tim/.ipython']"
      ]
     },
     "execution_count": 1,
     "metadata": {},
     "output_type": "execute_result"
    }
   ],
   "source": [
    "import sys\n",
    "sys.path"
   ]
  },
  {
   "cell_type": "code",
   "execution_count": 3,
   "metadata": {},
   "outputs": [],
   "source": [
    "import pyphm"
   ]
  },
  {
   "cell_type": "code",
   "execution_count": null,
   "metadata": {},
   "outputs": [],
   "source": []
  }
 ],
 "metadata": {
  "interpreter": {
   "hash": "a445fd1dd59e042f3702a5878c89afe1dbbe900f3b58e4a7756e0c9feaaac4f1"
  },
  "kernelspec": {
   "display_name": "Python 3.8.12 64-bit ('ganzoo': conda)",
   "language": "python",
   "name": "python3"
  },
  "language_info": {
   "codemirror_mode": {
    "name": "ipython",
    "version": 3
   },
   "file_extension": ".py",
   "mimetype": "text/x-python",
   "name": "python",
   "nbconvert_exporter": "python",
   "pygments_lexer": "ipython3",
   "version": "3.7.12"
  },
  "orig_nbformat": 4
 },
 "nbformat": 4,
 "nbformat_minor": 2
}
