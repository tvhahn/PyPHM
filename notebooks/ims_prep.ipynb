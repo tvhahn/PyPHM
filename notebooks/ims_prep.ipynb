{
 "cells": [
  {
   "cell_type": "code",
   "execution_count": 1,
   "metadata": {},
   "outputs": [],
   "source": [
    "\n",
    "from pyphm.datasets.ims import ImsDataLoad\n",
    "from pathlib import Path\n",
    "import pandas as pd\n",
    "import os\n",
    "import numpy as np\n",
    "import time\n",
    "import datetime\n",
    "import csv\n",
    "\n",
    "%load_ext autoreload\n",
    "%autoreload 2"
   ]
  },
  {
   "cell_type": "code",
   "execution_count": 2,
   "metadata": {},
   "outputs": [
    {
     "name": "stdout",
     "output_type": "stream",
     "text": [
      "/home/tim/Documents/PyPHM\n",
      "/home/tim/Documents/PyPHM/data\n"
     ]
    }
   ],
   "source": [
    "root_dir = Path.cwd().parent\n",
    "print(root_dir)\n",
    "path_data_raw_folder = Path(root_dir / 'data' )\n",
    "print(path_data_raw_folder)"
   ]
  },
  {
   "cell_type": "code",
   "execution_count": 9,
   "metadata": {},
   "outputs": [
    {
     "name": "stdout",
     "output_type": "stream",
     "text": [
      "type(root) =  <class 'pathlib.PosixPath'>\n",
      "/home/tim/Documents/PyPHM/data/ims\n"
     ]
    }
   ],
   "source": [
    "ims = ImsDataLoad(path_data_raw_folder, 'ims', download=False)\n",
    "\n",
    "path_1st_folder = ims.path_1st_folder\n",
    "path_2nd_folder = ims.path_2nd_folder\n",
    "path_3rd_folder = ims.path_3rd_folder\n",
    "\n",
    "file_list = sorted(os.listdir(path_1st_folder))\n",
    "file_name = file_list[0]"
   ]
  },
  {
   "cell_type": "code",
   "execution_count": 18,
   "metadata": {},
   "outputs": [],
   "source": [
    "def process_raw_csv_ims(path_run_folder, file_name, sample_index, run_no, sample_freq=20480.0):\n",
    "\n",
    "    signals = np.loadtxt(path_run_folder / file_name, delimiter=\"\\t\")\n",
    "\n",
    "    id_list = [f'{run_no}_{sample_index}'] * len(signals)\n",
    "    run = [run_no] * len(signals)\n",
    "    file = [file_name] * len(signals)\n",
    "    time_step = np.linspace(0.0, len(signals) / sample_freq, len(signals))\n",
    "\n",
    "    return signals, id_list, run, file, time_step"
   ]
  },
  {
   "cell_type": "code",
   "execution_count": 42,
   "metadata": {},
   "outputs": [],
   "source": [
    "file_list = sorted(os.listdir(path_1st_folder))\n",
    "file_name = file_list[0]\n",
    "\n",
    "signals, id_list, run, file, time_step = process_raw_csv_ims(path_1st_folder, file_name, 0, 1, sample_freq=20480.0)"
   ]
  },
  {
   "cell_type": "code",
   "execution_count": 43,
   "metadata": {},
   "outputs": [
    {
     "data": {
      "text/plain": [
       "20480"
      ]
     },
     "execution_count": 43,
     "metadata": {},
     "output_type": "execute_result"
    }
   ],
   "source": [
    "len(id_list)"
   ]
  },
  {
   "cell_type": "code",
   "execution_count": 44,
   "metadata": {},
   "outputs": [],
   "source": [
    "run.extend(run)\n"
   ]
  },
  {
   "cell_type": "code",
   "execution_count": 45,
   "metadata": {},
   "outputs": [
    {
     "data": {
      "text/plain": [
       "40960"
      ]
     },
     "execution_count": 45,
     "metadata": {},
     "output_type": "execute_result"
    }
   ],
   "source": [
    "len(run)"
   ]
  },
  {
   "cell_type": "code",
   "execution_count": 46,
   "metadata": {},
   "outputs": [
    {
     "data": {
      "text/plain": [
       "(40960, 8)"
      ]
     },
     "execution_count": 46,
     "metadata": {},
     "output_type": "execute_result"
    }
   ],
   "source": [
    "a = [signals, signals]\n",
    "a = np.concatenate(a, axis=0)\n",
    "a.shape"
   ]
  },
  {
   "cell_type": "code",
   "execution_count": 47,
   "metadata": {},
   "outputs": [
    {
     "data": {
      "text/html": [
       "<div>\n",
       "<style scoped>\n",
       "    .dataframe tbody tr th:only-of-type {\n",
       "        vertical-align: middle;\n",
       "    }\n",
       "\n",
       "    .dataframe tbody tr th {\n",
       "        vertical-align: top;\n",
       "    }\n",
       "\n",
       "    .dataframe thead th {\n",
       "        text-align: right;\n",
       "    }\n",
       "</style>\n",
       "<table border=\"1\" class=\"dataframe\">\n",
       "  <thead>\n",
       "    <tr style=\"text-align: right;\">\n",
       "      <th></th>\n",
       "      <th>b1_ch1</th>\n",
       "      <th>b1_ch2</th>\n",
       "      <th>b2_ch3</th>\n",
       "      <th>b2_ch4</th>\n",
       "      <th>b3_ch5</th>\n",
       "      <th>b3_ch6</th>\n",
       "      <th>b4_ch7</th>\n",
       "      <th>b4_ch8</th>\n",
       "      <th>run</th>\n",
       "    </tr>\n",
       "  </thead>\n",
       "  <tbody>\n",
       "    <tr>\n",
       "      <th>40955</th>\n",
       "      <td>-0.022</td>\n",
       "      <td>-0.142</td>\n",
       "      <td>0.085</td>\n",
       "      <td>-0.078</td>\n",
       "      <td>-0.200</td>\n",
       "      <td>-0.198</td>\n",
       "      <td>-0.134</td>\n",
       "      <td>-0.093</td>\n",
       "      <td>1</td>\n",
       "    </tr>\n",
       "    <tr>\n",
       "      <th>40956</th>\n",
       "      <td>0.024</td>\n",
       "      <td>-0.156</td>\n",
       "      <td>0.042</td>\n",
       "      <td>-0.039</td>\n",
       "      <td>-0.159</td>\n",
       "      <td>-0.071</td>\n",
       "      <td>-0.227</td>\n",
       "      <td>-0.132</td>\n",
       "      <td>1</td>\n",
       "    </tr>\n",
       "    <tr>\n",
       "      <th>40957</th>\n",
       "      <td>-0.193</td>\n",
       "      <td>-0.303</td>\n",
       "      <td>-0.071</td>\n",
       "      <td>-0.125</td>\n",
       "      <td>-0.237</td>\n",
       "      <td>-0.251</td>\n",
       "      <td>-0.151</td>\n",
       "      <td>0.007</td>\n",
       "      <td>1</td>\n",
       "    </tr>\n",
       "    <tr>\n",
       "      <th>40958</th>\n",
       "      <td>-0.115</td>\n",
       "      <td>0.076</td>\n",
       "      <td>-0.078</td>\n",
       "      <td>-0.332</td>\n",
       "      <td>-0.027</td>\n",
       "      <td>-0.002</td>\n",
       "      <td>-0.151</td>\n",
       "      <td>-0.005</td>\n",
       "      <td>1</td>\n",
       "    </tr>\n",
       "    <tr>\n",
       "      <th>40959</th>\n",
       "      <td>-0.042</td>\n",
       "      <td>0.098</td>\n",
       "      <td>0.103</td>\n",
       "      <td>-0.059</td>\n",
       "      <td>-0.002</td>\n",
       "      <td>-0.342</td>\n",
       "      <td>-0.095</td>\n",
       "      <td>-0.276</td>\n",
       "      <td>1</td>\n",
       "    </tr>\n",
       "  </tbody>\n",
       "</table>\n",
       "</div>"
      ],
      "text/plain": [
       "       b1_ch1  b1_ch2  b2_ch3  b2_ch4  b3_ch5  b3_ch6  b4_ch7  b4_ch8  run\n",
       "40955  -0.022  -0.142   0.085  -0.078  -0.200  -0.198  -0.134  -0.093    1\n",
       "40956   0.024  -0.156   0.042  -0.039  -0.159  -0.071  -0.227  -0.132    1\n",
       "40957  -0.193  -0.303  -0.071  -0.125  -0.237  -0.251  -0.151   0.007    1\n",
       "40958  -0.115   0.076  -0.078  -0.332  -0.027  -0.002  -0.151  -0.005    1\n",
       "40959  -0.042   0.098   0.103  -0.059  -0.002  -0.342  -0.095  -0.276    1"
      ]
     },
     "execution_count": 47,
     "metadata": {},
     "output_type": "execute_result"
    }
   ],
   "source": [
    "df = pd.DataFrame(a, columns=ims.col_1st_names)\n",
    "df['run'] = run\n",
    "df.tail()"
   ]
  },
  {
   "cell_type": "code",
   "execution_count": 16,
   "metadata": {},
   "outputs": [
    {
     "data": {
      "text/plain": [
       "['1_0', '1_0', '1_0', '1_0', '1_0', '1_0', '1_0', '1_0', '1_0', '1_0']"
      ]
     },
     "execution_count": 16,
     "metadata": {},
     "output_type": "execute_result"
    }
   ],
   "source": [
    "run_no = 1\n",
    "sample_index = 0\n",
    "id_list = [f'{run_no}_{sample_index}']*10\n",
    "\n",
    "id_list"
   ]
  },
  {
   "cell_type": "code",
   "execution_count": 11,
   "metadata": {},
   "outputs": [
    {
     "data": {
      "text/html": [
       "<div>\n",
       "<style scoped>\n",
       "    .dataframe tbody tr th:only-of-type {\n",
       "        vertical-align: middle;\n",
       "    }\n",
       "\n",
       "    .dataframe tbody tr th {\n",
       "        vertical-align: top;\n",
       "    }\n",
       "\n",
       "    .dataframe thead th {\n",
       "        text-align: right;\n",
       "    }\n",
       "</style>\n",
       "<table border=\"1\" class=\"dataframe\">\n",
       "  <thead>\n",
       "    <tr style=\"text-align: right;\">\n",
       "      <th></th>\n",
       "      <th>b1_ch1</th>\n",
       "      <th>b1_ch2</th>\n",
       "      <th>b2_ch3</th>\n",
       "      <th>b2_ch4</th>\n",
       "      <th>b3_ch5</th>\n",
       "      <th>b3_ch6</th>\n",
       "      <th>b4_ch7</th>\n",
       "      <th>b4_ch8</th>\n",
       "    </tr>\n",
       "  </thead>\n",
       "  <tbody>\n",
       "    <tr>\n",
       "      <th>0</th>\n",
       "      <td>-0.022</td>\n",
       "      <td>-0.039</td>\n",
       "      <td>-0.183</td>\n",
       "      <td>-0.054</td>\n",
       "      <td>-0.105</td>\n",
       "      <td>-0.134</td>\n",
       "      <td>-0.129</td>\n",
       "      <td>-0.142</td>\n",
       "    </tr>\n",
       "    <tr>\n",
       "      <th>1</th>\n",
       "      <td>-0.105</td>\n",
       "      <td>-0.017</td>\n",
       "      <td>-0.164</td>\n",
       "      <td>-0.183</td>\n",
       "      <td>-0.049</td>\n",
       "      <td>0.029</td>\n",
       "      <td>-0.115</td>\n",
       "      <td>-0.122</td>\n",
       "    </tr>\n",
       "    <tr>\n",
       "      <th>2</th>\n",
       "      <td>-0.183</td>\n",
       "      <td>-0.098</td>\n",
       "      <td>-0.195</td>\n",
       "      <td>-0.125</td>\n",
       "      <td>-0.005</td>\n",
       "      <td>-0.007</td>\n",
       "      <td>-0.171</td>\n",
       "      <td>-0.071</td>\n",
       "    </tr>\n",
       "    <tr>\n",
       "      <th>3</th>\n",
       "      <td>-0.178</td>\n",
       "      <td>-0.161</td>\n",
       "      <td>-0.159</td>\n",
       "      <td>-0.178</td>\n",
       "      <td>-0.100</td>\n",
       "      <td>-0.115</td>\n",
       "      <td>-0.112</td>\n",
       "      <td>-0.078</td>\n",
       "    </tr>\n",
       "    <tr>\n",
       "      <th>4</th>\n",
       "      <td>-0.208</td>\n",
       "      <td>-0.129</td>\n",
       "      <td>-0.261</td>\n",
       "      <td>-0.098</td>\n",
       "      <td>-0.151</td>\n",
       "      <td>-0.205</td>\n",
       "      <td>-0.063</td>\n",
       "      <td>-0.066</td>\n",
       "    </tr>\n",
       "  </tbody>\n",
       "</table>\n",
       "</div>"
      ],
      "text/plain": [
       "   b1_ch1  b1_ch2  b2_ch3  b2_ch4  b3_ch5  b3_ch6  b4_ch7  b4_ch8\n",
       "0  -0.022  -0.039  -0.183  -0.054  -0.105  -0.134  -0.129  -0.142\n",
       "1  -0.105  -0.017  -0.164  -0.183  -0.049   0.029  -0.115  -0.122\n",
       "2  -0.183  -0.098  -0.195  -0.125  -0.005  -0.007  -0.171  -0.071\n",
       "3  -0.178  -0.161  -0.159  -0.178  -0.100  -0.115  -0.112  -0.078\n",
       "4  -0.208  -0.129  -0.261  -0.098  -0.151  -0.205  -0.063  -0.066"
      ]
     },
     "execution_count": 11,
     "metadata": {},
     "output_type": "execute_result"
    }
   ],
   "source": [
    "a = np.loadtxt(path_1st_folder / file_name, delimiter=\"\\t\")\n",
    "\n",
    "col_names = ['b1_ch1', 'b1_ch2', 'b2_ch3', 'b2_ch4', 'b3_ch5', 'b3_ch6', 'b4_ch7', 'b4_ch8']\n",
    "df = pd.read_csv(path_1st_folder / file_name, sep='\\t', names=col_names)\n",
    "df.head()"
   ]
  },
  {
   "cell_type": "code",
   "execution_count": 13,
   "metadata": {},
   "outputs": [
    {
     "data": {
      "text/plain": [
       "array([-0.105, -0.017, -0.164, -0.183, -0.049,  0.029, -0.115, -0.122])"
      ]
     },
     "execution_count": 13,
     "metadata": {},
     "output_type": "execute_result"
    }
   ],
   "source": [
    "a[1]"
   ]
  },
  {
   "cell_type": "code",
   "execution_count": 15,
   "metadata": {},
   "outputs": [
    {
     "name": "stdout",
     "output_type": "stream",
     "text": [
      "len file_list: 2156\n",
      "Processing 2003.10.22.12.06.24, i=0 - run 1\n",
      "Processing 2003.10.22.16.54.13, i=50 - run 1\n",
      "Processing 2003.10.23.01.04.13, i=100 - run 1\n",
      "Processing 2003.10.23.09.24.13, i=150 - run 1\n",
      "Processing 2003.10.29.21.59.46, i=200 - run 1\n",
      "Processing 2003.10.31.02.39.46, i=250 - run 1\n",
      "Processing 2003.10.31.12.41.44, i=300 - run 1\n",
      "Processing 2003.10.31.21.01.44, i=350 - run 1\n",
      "Processing 2003.11.01.05.21.44, i=400 - run 1\n",
      "Processing 2003.11.01.13.41.44, i=450 - run 1\n",
      "Processing 2003.11.01.22.01.44, i=500 - run 1\n",
      "Processing 2003.11.07.16.31.44, i=550 - run 1\n",
      "Processing 2003.11.08.12.21.44, i=600 - run 1\n",
      "Processing 2003.11.08.20.41.44, i=650 - run 1\n",
      "Processing 2003.11.09.05.01.44, i=700 - run 1\n",
      "Processing 2003.11.09.13.15.58, i=750 - run 1\n",
      "Processing 2003.11.10.01.05.58, i=800 - run 1\n",
      "Processing 2003.11.10.09.25.58, i=850 - run 1\n",
      "Processing 2003.11.14.12.12.17, i=900 - run 1\n",
      "Processing 2003.11.14.20.58.46, i=950 - run 1\n",
      "Processing 2003.11.15.05.18.46, i=1000 - run 1\n",
      "Processing 2003.11.15.13.38.46, i=1050 - run 1\n",
      "Processing 2003.11.15.21.58.46, i=1100 - run 1\n",
      "Processing 2003.11.16.06.18.46, i=1150 - run 1\n",
      "Processing 2003.11.16.14.38.46, i=1200 - run 1\n",
      "Processing 2003.11.17.12.32.30, i=1250 - run 1\n",
      "Processing 2003.11.17.20.52.30, i=1300 - run 1\n",
      "Processing 2003.11.18.05.12.30, i=1350 - run 1\n",
      "Processing 2003.11.18.13.32.30, i=1400 - run 1\n",
      "Processing 2003.11.19.12.56.07, i=1450 - run 1\n",
      "Processing 2003.11.19.21.16.07, i=1500 - run 1\n",
      "Processing 2003.11.20.15.24.03, i=1550 - run 1\n",
      "Processing 2003.11.20.19.34.03, i=1600 - run 1\n",
      "Processing 2003.11.21.05.34.03, i=1650 - run 1\n",
      "Processing 2003.11.21.18.26.56, i=1700 - run 1\n",
      "Processing 2003.11.22.02.46.56, i=1750 - run 1\n",
      "Processing 2003.11.22.11.06.56, i=1800 - run 1\n",
      "Processing 2003.11.22.19.26.56, i=1850 - run 1\n",
      "Processing 2003.11.23.06.26.56, i=1900 - run 1\n",
      "Processing 2003.11.23.14.46.56, i=1950 - run 1\n",
      "Processing 2003.11.24.01.11.24, i=2000 - run 1\n",
      "Processing 2003.11.24.10.51.24, i=2050 - run 1\n",
      "Processing 2003.11.24.20.57.32, i=2100 - run 1\n",
      "Processing 2003.11.25.15.57.32, i=2150 - run 1\n"
     ]
    }
   ],
   "source": [
    "df = ims.load_run_as_dataframe(run_no=1)"
   ]
  },
  {
   "cell_type": "code",
   "execution_count": 16,
   "metadata": {},
   "outputs": [
    {
     "data": {
      "text/html": [
       "<div>\n",
       "<style scoped>\n",
       "    .dataframe tbody tr th:only-of-type {\n",
       "        vertical-align: middle;\n",
       "    }\n",
       "\n",
       "    .dataframe tbody tr th {\n",
       "        vertical-align: top;\n",
       "    }\n",
       "\n",
       "    .dataframe thead th {\n",
       "        text-align: right;\n",
       "    }\n",
       "</style>\n",
       "<table border=\"1\" class=\"dataframe\">\n",
       "  <thead>\n",
       "    <tr style=\"text-align: right;\">\n",
       "      <th></th>\n",
       "      <th>b1_ch1</th>\n",
       "      <th>b1_ch2</th>\n",
       "      <th>b2_ch3</th>\n",
       "      <th>b2_ch4</th>\n",
       "      <th>b3_ch5</th>\n",
       "      <th>b3_ch6</th>\n",
       "      <th>b4_ch7</th>\n",
       "      <th>b4_ch8</th>\n",
       "    </tr>\n",
       "  </thead>\n",
       "  <tbody>\n",
       "    <tr>\n",
       "      <th>0</th>\n",
       "      <td>-0.022</td>\n",
       "      <td>-0.039</td>\n",
       "      <td>-0.183</td>\n",
       "      <td>-0.054</td>\n",
       "      <td>-0.105</td>\n",
       "      <td>-0.134</td>\n",
       "      <td>-0.129</td>\n",
       "      <td>-0.142</td>\n",
       "    </tr>\n",
       "    <tr>\n",
       "      <th>1</th>\n",
       "      <td>-0.105</td>\n",
       "      <td>-0.017</td>\n",
       "      <td>-0.164</td>\n",
       "      <td>-0.183</td>\n",
       "      <td>-0.049</td>\n",
       "      <td>0.029</td>\n",
       "      <td>-0.115</td>\n",
       "      <td>-0.122</td>\n",
       "    </tr>\n",
       "    <tr>\n",
       "      <th>2</th>\n",
       "      <td>-0.183</td>\n",
       "      <td>-0.098</td>\n",
       "      <td>-0.195</td>\n",
       "      <td>-0.125</td>\n",
       "      <td>-0.005</td>\n",
       "      <td>-0.007</td>\n",
       "      <td>-0.171</td>\n",
       "      <td>-0.071</td>\n",
       "    </tr>\n",
       "    <tr>\n",
       "      <th>3</th>\n",
       "      <td>-0.178</td>\n",
       "      <td>-0.161</td>\n",
       "      <td>-0.159</td>\n",
       "      <td>-0.178</td>\n",
       "      <td>-0.100</td>\n",
       "      <td>-0.115</td>\n",
       "      <td>-0.112</td>\n",
       "      <td>-0.078</td>\n",
       "    </tr>\n",
       "    <tr>\n",
       "      <th>4</th>\n",
       "      <td>-0.208</td>\n",
       "      <td>-0.129</td>\n",
       "      <td>-0.261</td>\n",
       "      <td>-0.098</td>\n",
       "      <td>-0.151</td>\n",
       "      <td>-0.205</td>\n",
       "      <td>-0.063</td>\n",
       "      <td>-0.066</td>\n",
       "    </tr>\n",
       "  </tbody>\n",
       "</table>\n",
       "</div>"
      ],
      "text/plain": [
       "   b1_ch1  b1_ch2  b2_ch3  b2_ch4  b3_ch5  b3_ch6  b4_ch7  b4_ch8\n",
       "0  -0.022  -0.039  -0.183  -0.054  -0.105  -0.134  -0.129  -0.142\n",
       "1  -0.105  -0.017  -0.164  -0.183  -0.049   0.029  -0.115  -0.122\n",
       "2  -0.183  -0.098  -0.195  -0.125  -0.005  -0.007  -0.171  -0.071\n",
       "3  -0.178  -0.161  -0.159  -0.178  -0.100  -0.115  -0.112  -0.078\n",
       "4  -0.208  -0.129  -0.261  -0.098  -0.151  -0.205  -0.063  -0.066"
      ]
     },
     "execution_count": 16,
     "metadata": {},
     "output_type": "execute_result"
    }
   ],
   "source": [
    "df.head()"
   ]
  },
  {
   "cell_type": "code",
   "execution_count": 17,
   "metadata": {},
   "outputs": [
    {
     "data": {
      "text/plain": [
       "(44154880, 8)"
      ]
     },
     "execution_count": 17,
     "metadata": {},
     "output_type": "execute_result"
    }
   ],
   "source": [
    "df.shape"
   ]
  },
  {
   "cell_type": "code",
   "execution_count": 4,
   "metadata": {},
   "outputs": [],
   "source": [
    "path_1st_folder = ims.path_1st_folder\n",
    "path_2nd_folder = ims.path_2nd_folder\n",
    "path_3rd_folder = ims.path_3rd_folder"
   ]
  },
  {
   "cell_type": "code",
   "execution_count": null,
   "metadata": {},
   "outputs": [],
   "source": []
  },
  {
   "cell_type": "code",
   "execution_count": 5,
   "metadata": {},
   "outputs": [
    {
     "data": {
      "text/plain": [
       "'2004.03.04.09.27.46'"
      ]
     },
     "execution_count": 5,
     "metadata": {},
     "output_type": "execute_result"
    }
   ],
   "source": [
    "file_list = sorted(os.listdir(path_3rd_folder))\n",
    "file_list[0]"
   ]
  },
  {
   "cell_type": "code",
   "execution_count": 6,
   "metadata": {},
   "outputs": [
    {
     "name": "stdout",
     "output_type": "stream",
     "text": [
      "2004.03.04.09.27.46\n"
     ]
    },
    {
     "data": {
      "text/html": [
       "<div>\n",
       "<style scoped>\n",
       "    .dataframe tbody tr th:only-of-type {\n",
       "        vertical-align: middle;\n",
       "    }\n",
       "\n",
       "    .dataframe tbody tr th {\n",
       "        vertical-align: top;\n",
       "    }\n",
       "\n",
       "    .dataframe thead th {\n",
       "        text-align: right;\n",
       "    }\n",
       "</style>\n",
       "<table border=\"1\" class=\"dataframe\">\n",
       "  <thead>\n",
       "    <tr style=\"text-align: right;\">\n",
       "      <th></th>\n",
       "      <th>b1_ch1</th>\n",
       "      <th>b1_ch2</th>\n",
       "      <th>b2_ch3</th>\n",
       "      <th>b2_ch4</th>\n",
       "      <th>b3_ch5</th>\n",
       "      <th>b3_ch6</th>\n",
       "      <th>b4_ch7</th>\n",
       "      <th>b4_ch8</th>\n",
       "    </tr>\n",
       "  </thead>\n",
       "  <tbody>\n",
       "    <tr>\n",
       "      <th>0</th>\n",
       "      <td>0.034</td>\n",
       "      <td>0.264</td>\n",
       "      <td>0.039</td>\n",
       "      <td>-0.046</td>\n",
       "      <td>NaN</td>\n",
       "      <td>NaN</td>\n",
       "      <td>NaN</td>\n",
       "      <td>NaN</td>\n",
       "    </tr>\n",
       "    <tr>\n",
       "      <th>1</th>\n",
       "      <td>0.103</td>\n",
       "      <td>0.083</td>\n",
       "      <td>-0.061</td>\n",
       "      <td>-0.012</td>\n",
       "      <td>NaN</td>\n",
       "      <td>NaN</td>\n",
       "      <td>NaN</td>\n",
       "      <td>NaN</td>\n",
       "    </tr>\n",
       "    <tr>\n",
       "      <th>2</th>\n",
       "      <td>0.095</td>\n",
       "      <td>-0.039</td>\n",
       "      <td>-0.007</td>\n",
       "      <td>0.039</td>\n",
       "      <td>NaN</td>\n",
       "      <td>NaN</td>\n",
       "      <td>NaN</td>\n",
       "      <td>NaN</td>\n",
       "    </tr>\n",
       "    <tr>\n",
       "      <th>3</th>\n",
       "      <td>0.000</td>\n",
       "      <td>0.110</td>\n",
       "      <td>0.022</td>\n",
       "      <td>-0.002</td>\n",
       "      <td>NaN</td>\n",
       "      <td>NaN</td>\n",
       "      <td>NaN</td>\n",
       "      <td>NaN</td>\n",
       "    </tr>\n",
       "    <tr>\n",
       "      <th>4</th>\n",
       "      <td>0.005</td>\n",
       "      <td>0.154</td>\n",
       "      <td>-0.127</td>\n",
       "      <td>-0.020</td>\n",
       "      <td>NaN</td>\n",
       "      <td>NaN</td>\n",
       "      <td>NaN</td>\n",
       "      <td>NaN</td>\n",
       "    </tr>\n",
       "  </tbody>\n",
       "</table>\n",
       "</div>"
      ],
      "text/plain": [
       "   b1_ch1  b1_ch2  b2_ch3  b2_ch4  b3_ch5  b3_ch6  b4_ch7  b4_ch8\n",
       "0   0.034   0.264   0.039  -0.046     NaN     NaN     NaN     NaN\n",
       "1   0.103   0.083  -0.061  -0.012     NaN     NaN     NaN     NaN\n",
       "2   0.095  -0.039  -0.007   0.039     NaN     NaN     NaN     NaN\n",
       "3   0.000   0.110   0.022  -0.002     NaN     NaN     NaN     NaN\n",
       "4   0.005   0.154  -0.127  -0.020     NaN     NaN     NaN     NaN"
      ]
     },
     "execution_count": 6,
     "metadata": {},
     "output_type": "execute_result"
    }
   ],
   "source": [
    "file_name = file_list[0]\n",
    "print(file_name)\n",
    "\n",
    "col_names = ['b1_ch1', 'b1_ch2', 'b2_ch3', 'b2_ch4', 'b3_ch5', 'b3_ch6', 'b4_ch7', 'b4_ch8']\n",
    "df = pd.read_csv(path_3rd_folder / file_name, sep='\\t', names=col_names)\n",
    "df.head()"
   ]
  },
  {
   "cell_type": "code",
   "execution_count": 7,
   "metadata": {},
   "outputs": [
    {
     "data": {
      "text/html": [
       "<div>\n",
       "<style scoped>\n",
       "    .dataframe tbody tr th:only-of-type {\n",
       "        vertical-align: middle;\n",
       "    }\n",
       "\n",
       "    .dataframe tbody tr th {\n",
       "        vertical-align: top;\n",
       "    }\n",
       "\n",
       "    .dataframe thead th {\n",
       "        text-align: right;\n",
       "    }\n",
       "</style>\n",
       "<table border=\"1\" class=\"dataframe\">\n",
       "  <thead>\n",
       "    <tr style=\"text-align: right;\">\n",
       "      <th></th>\n",
       "      <th>b1_ch1</th>\n",
       "      <th>b1_ch2</th>\n",
       "      <th>b2_ch3</th>\n",
       "      <th>b2_ch4</th>\n",
       "      <th>b3_ch5</th>\n",
       "      <th>b3_ch6</th>\n",
       "      <th>b4_ch7</th>\n",
       "      <th>b4_ch8</th>\n",
       "      <th>id</th>\n",
       "      <th>run</th>\n",
       "    </tr>\n",
       "  </thead>\n",
       "  <tbody>\n",
       "    <tr>\n",
       "      <th>0</th>\n",
       "      <td>0.034</td>\n",
       "      <td>0.264</td>\n",
       "      <td>0.039</td>\n",
       "      <td>-0.046</td>\n",
       "      <td>NaN</td>\n",
       "      <td>NaN</td>\n",
       "      <td>NaN</td>\n",
       "      <td>NaN</td>\n",
       "      <td>1_2004.03.04.09.27.46</td>\n",
       "      <td>1</td>\n",
       "    </tr>\n",
       "    <tr>\n",
       "      <th>1</th>\n",
       "      <td>0.103</td>\n",
       "      <td>0.083</td>\n",
       "      <td>-0.061</td>\n",
       "      <td>-0.012</td>\n",
       "      <td>NaN</td>\n",
       "      <td>NaN</td>\n",
       "      <td>NaN</td>\n",
       "      <td>NaN</td>\n",
       "      <td>1_2004.03.04.09.27.46</td>\n",
       "      <td>1</td>\n",
       "    </tr>\n",
       "    <tr>\n",
       "      <th>2</th>\n",
       "      <td>0.095</td>\n",
       "      <td>-0.039</td>\n",
       "      <td>-0.007</td>\n",
       "      <td>0.039</td>\n",
       "      <td>NaN</td>\n",
       "      <td>NaN</td>\n",
       "      <td>NaN</td>\n",
       "      <td>NaN</td>\n",
       "      <td>1_2004.03.04.09.27.46</td>\n",
       "      <td>1</td>\n",
       "    </tr>\n",
       "    <tr>\n",
       "      <th>3</th>\n",
       "      <td>0.000</td>\n",
       "      <td>0.110</td>\n",
       "      <td>0.022</td>\n",
       "      <td>-0.002</td>\n",
       "      <td>NaN</td>\n",
       "      <td>NaN</td>\n",
       "      <td>NaN</td>\n",
       "      <td>NaN</td>\n",
       "      <td>1_2004.03.04.09.27.46</td>\n",
       "      <td>1</td>\n",
       "    </tr>\n",
       "    <tr>\n",
       "      <th>4</th>\n",
       "      <td>0.005</td>\n",
       "      <td>0.154</td>\n",
       "      <td>-0.127</td>\n",
       "      <td>-0.020</td>\n",
       "      <td>NaN</td>\n",
       "      <td>NaN</td>\n",
       "      <td>NaN</td>\n",
       "      <td>NaN</td>\n",
       "      <td>1_2004.03.04.09.27.46</td>\n",
       "      <td>1</td>\n",
       "    </tr>\n",
       "  </tbody>\n",
       "</table>\n",
       "</div>"
      ],
      "text/plain": [
       "   b1_ch1  b1_ch2  b2_ch3  b2_ch4  b3_ch5  b3_ch6  b4_ch7  b4_ch8  \\\n",
       "0   0.034   0.264   0.039  -0.046     NaN     NaN     NaN     NaN   \n",
       "1   0.103   0.083  -0.061  -0.012     NaN     NaN     NaN     NaN   \n",
       "2   0.095  -0.039  -0.007   0.039     NaN     NaN     NaN     NaN   \n",
       "3   0.000   0.110   0.022  -0.002     NaN     NaN     NaN     NaN   \n",
       "4   0.005   0.154  -0.127  -0.020     NaN     NaN     NaN     NaN   \n",
       "\n",
       "                      id  run  \n",
       "0  1_2004.03.04.09.27.46    1  \n",
       "1  1_2004.03.04.09.27.46    1  \n",
       "2  1_2004.03.04.09.27.46    1  \n",
       "3  1_2004.03.04.09.27.46    1  \n",
       "4  1_2004.03.04.09.27.46    1  "
      ]
     },
     "execution_count": 7,
     "metadata": {},
     "output_type": "execute_result"
    }
   ],
   "source": [
    "# columns to add\n",
    "# ['id', 'run', 'start_time_unix', 'date_time', 'unix_time', 'file_name']\n",
    "\n",
    "df['id'] = \"1_\" + file_name\n",
    "df['run'] = 1\n",
    "df.head()"
   ]
  },
  {
   "cell_type": "code",
   "execution_count": 8,
   "metadata": {},
   "outputs": [],
   "source": [
    "def process_raw_csv_ims(path_run_folder, file_name, sample_index, run_no, col_names, sample_freq=20480.0):\n",
    "\n",
    "    df = pd.read_csv(path_run_folder / file_name, sep='\\t', names=col_names)\n",
    "\n",
    "    df['id'] = \"1_\" + str(sample_index)\n",
    "    df['run'] = run_no\n",
    "    df['file'] = file_name\n",
    "    df['time'] = np.linspace(0.0, len(df)/sample_freq, len(df))\n",
    "\n",
    "    return df[['id', 'file', 'run', 'time',] + col_names]"
   ]
  },
  {
   "cell_type": "code",
   "execution_count": 27,
   "metadata": {},
   "outputs": [
    {
     "data": {
      "text/html": [
       "<div>\n",
       "<style scoped>\n",
       "    .dataframe tbody tr th:only-of-type {\n",
       "        vertical-align: middle;\n",
       "    }\n",
       "\n",
       "    .dataframe tbody tr th {\n",
       "        vertical-align: top;\n",
       "    }\n",
       "\n",
       "    .dataframe thead th {\n",
       "        text-align: right;\n",
       "    }\n",
       "</style>\n",
       "<table border=\"1\" class=\"dataframe\">\n",
       "  <thead>\n",
       "    <tr style=\"text-align: right;\">\n",
       "      <th></th>\n",
       "      <th>id</th>\n",
       "      <th>file</th>\n",
       "      <th>run</th>\n",
       "      <th>time</th>\n",
       "      <th>b1_ch1</th>\n",
       "      <th>b1_ch2</th>\n",
       "      <th>b2_ch3</th>\n",
       "      <th>b2_ch4</th>\n",
       "      <th>b3_ch5</th>\n",
       "      <th>b3_ch6</th>\n",
       "      <th>b4_ch7</th>\n",
       "      <th>b4_ch8</th>\n",
       "    </tr>\n",
       "  </thead>\n",
       "  <tbody>\n",
       "    <tr>\n",
       "      <th>0</th>\n",
       "      <td>1_0</td>\n",
       "      <td>2004.03.04.09.27.46</td>\n",
       "      <td>3</td>\n",
       "      <td>0.000000</td>\n",
       "      <td>0.034</td>\n",
       "      <td>0.264</td>\n",
       "      <td>0.039</td>\n",
       "      <td>-0.046</td>\n",
       "      <td>NaN</td>\n",
       "      <td>NaN</td>\n",
       "      <td>NaN</td>\n",
       "      <td>NaN</td>\n",
       "    </tr>\n",
       "    <tr>\n",
       "      <th>1</th>\n",
       "      <td>1_0</td>\n",
       "      <td>2004.03.04.09.27.46</td>\n",
       "      <td>3</td>\n",
       "      <td>0.000049</td>\n",
       "      <td>0.103</td>\n",
       "      <td>0.083</td>\n",
       "      <td>-0.061</td>\n",
       "      <td>-0.012</td>\n",
       "      <td>NaN</td>\n",
       "      <td>NaN</td>\n",
       "      <td>NaN</td>\n",
       "      <td>NaN</td>\n",
       "    </tr>\n",
       "    <tr>\n",
       "      <th>2</th>\n",
       "      <td>1_0</td>\n",
       "      <td>2004.03.04.09.27.46</td>\n",
       "      <td>3</td>\n",
       "      <td>0.000098</td>\n",
       "      <td>0.095</td>\n",
       "      <td>-0.039</td>\n",
       "      <td>-0.007</td>\n",
       "      <td>0.039</td>\n",
       "      <td>NaN</td>\n",
       "      <td>NaN</td>\n",
       "      <td>NaN</td>\n",
       "      <td>NaN</td>\n",
       "    </tr>\n",
       "    <tr>\n",
       "      <th>3</th>\n",
       "      <td>1_0</td>\n",
       "      <td>2004.03.04.09.27.46</td>\n",
       "      <td>3</td>\n",
       "      <td>0.000146</td>\n",
       "      <td>0.000</td>\n",
       "      <td>0.110</td>\n",
       "      <td>0.022</td>\n",
       "      <td>-0.002</td>\n",
       "      <td>NaN</td>\n",
       "      <td>NaN</td>\n",
       "      <td>NaN</td>\n",
       "      <td>NaN</td>\n",
       "    </tr>\n",
       "    <tr>\n",
       "      <th>4</th>\n",
       "      <td>1_0</td>\n",
       "      <td>2004.03.04.09.27.46</td>\n",
       "      <td>3</td>\n",
       "      <td>0.000195</td>\n",
       "      <td>0.005</td>\n",
       "      <td>0.154</td>\n",
       "      <td>-0.127</td>\n",
       "      <td>-0.020</td>\n",
       "      <td>NaN</td>\n",
       "      <td>NaN</td>\n",
       "      <td>NaN</td>\n",
       "      <td>NaN</td>\n",
       "    </tr>\n",
       "  </tbody>\n",
       "</table>\n",
       "</div>"
      ],
      "text/plain": [
       "    id                 file  run      time  b1_ch1  b1_ch2  b2_ch3  b2_ch4  \\\n",
       "0  1_0  2004.03.04.09.27.46    3  0.000000   0.034   0.264   0.039  -0.046   \n",
       "1  1_0  2004.03.04.09.27.46    3  0.000049   0.103   0.083  -0.061  -0.012   \n",
       "2  1_0  2004.03.04.09.27.46    3  0.000098   0.095  -0.039  -0.007   0.039   \n",
       "3  1_0  2004.03.04.09.27.46    3  0.000146   0.000   0.110   0.022  -0.002   \n",
       "4  1_0  2004.03.04.09.27.46    3  0.000195   0.005   0.154  -0.127  -0.020   \n",
       "\n",
       "   b3_ch5  b3_ch6  b4_ch7  b4_ch8  \n",
       "0     NaN     NaN     NaN     NaN  \n",
       "1     NaN     NaN     NaN     NaN  \n",
       "2     NaN     NaN     NaN     NaN  \n",
       "3     NaN     NaN     NaN     NaN  \n",
       "4     NaN     NaN     NaN     NaN  "
      ]
     },
     "execution_count": 27,
     "metadata": {},
     "output_type": "execute_result"
    }
   ],
   "source": [
    "df1 = process_raw_csv_ims(path_3rd_folder, file_name, 0, 3, col_names, sample_freq=20480.0)\n",
    "df1.head()"
   ]
  },
  {
   "cell_type": "code",
   "execution_count": null,
   "metadata": {},
   "outputs": [],
   "source": [
    "def create_xy_dataframe():"
   ]
  },
  {
   "cell_type": "code",
   "execution_count": 29,
   "metadata": {},
   "outputs": [
    {
     "data": {
      "text/plain": [
       "9.766101860442404e-05"
      ]
     },
     "execution_count": 29,
     "metadata": {},
     "output_type": "execute_result"
    }
   ],
   "source": [
    "df1['time'][2]"
   ]
  },
  {
   "cell_type": "code",
   "execution_count": 8,
   "metadata": {},
   "outputs": [
    {
     "data": {
      "text/plain": [
       "1066849584.0"
      ]
     },
     "execution_count": 8,
     "metadata": {},
     "output_type": "execute_result"
    }
   ],
   "source": [
    "# convert start_time to unix timestamp\n",
    "start_time_unix = time.mktime(\n",
    "    datetime.datetime.strptime(file_name, \"%Y.%m.%d.%H.%M.%S\").timetuple()\n",
    ")\n",
    "start_time"
   ]
  },
  {
   "cell_type": "code",
   "execution_count": 9,
   "metadata": {},
   "outputs": [
    {
     "data": {
      "text/plain": [
       "'2003-10-22 12:06:24'"
      ]
     },
     "execution_count": 9,
     "metadata": {},
     "output_type": "execute_result"
    }
   ],
   "source": [
    "date_nice_format = datetime.datetime.fromtimestamp(start_time).strftime(\n",
    "    \"%Y-%m-%d %H:%M:%S\"\n",
    ")  # reformat date\n",
    "date_nice_format\n"
   ]
  },
  {
   "cell_type": "code",
   "execution_count": 7,
   "metadata": {},
   "outputs": [],
   "source": [
    "date_list = sorted(os.listdir(path_1st_folder))"
   ]
  },
  {
   "cell_type": "code",
   "execution_count": 10,
   "metadata": {},
   "outputs": [
    {
     "data": {
      "text/plain": [
       "['2003.10.22.12.06.24',\n",
       " '2003.10.22.12.09.13',\n",
       " '2003.10.22.12.14.13',\n",
       " '2003.10.22.12.19.13',\n",
       " '2003.10.22.12.24.13',\n",
       " '2003.10.22.12.29.13',\n",
       " '2003.10.22.12.34.13',\n",
       " '2003.10.22.12.39.13',\n",
       " '2003.10.22.12.44.13',\n",
       " '2003.10.22.12.49.13']"
      ]
     },
     "execution_count": 10,
     "metadata": {},
     "output_type": "execute_result"
    }
   ],
   "source": [
    "date_list[:10]"
   ]
  },
  {
   "cell_type": "code",
   "execution_count": null,
   "metadata": {},
   "outputs": [],
   "source": []
  }
 ],
 "metadata": {
  "interpreter": {
   "hash": "daff1afd4d675d5e247c0a95a5de0c03bd87d8f7edee7cb37c539016070f1c16"
  },
  "kernelspec": {
   "display_name": "Python 3.8.12 64-bit ('featstore': conda)",
   "language": "python",
   "name": "python3"
  },
  "language_info": {
   "codemirror_mode": {
    "name": "ipython",
    "version": 3
   },
   "file_extension": ".py",
   "mimetype": "text/x-python",
   "name": "python",
   "nbconvert_exporter": "python",
   "pygments_lexer": "ipython3",
   "version": "3.8.12"
  },
  "orig_nbformat": 4
 },
 "nbformat": 4,
 "nbformat_minor": 2
}
