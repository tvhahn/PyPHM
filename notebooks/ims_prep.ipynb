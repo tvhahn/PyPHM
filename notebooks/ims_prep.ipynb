{
 "cells": [
  {
   "cell_type": "code",
   "execution_count": 1,
   "metadata": {},
   "outputs": [],
   "source": [
    "\n",
    "from pyphm.datasets.ims import ImsDataLoad\n",
    "from pathlib import Path\n",
    "import pandas as pd\n",
    "import os\n",
    "import numpy as np\n",
    "import time\n",
    "import datetime\n",
    "import csv\n",
    "\n",
    "%load_ext autoreload\n",
    "%autoreload 2"
   ]
  },
  {
   "cell_type": "markdown",
   "metadata": {},
   "source": [
    "# Full Dataset Test"
   ]
  },
  {
   "cell_type": "code",
   "execution_count": 6,
   "metadata": {},
   "outputs": [
    {
     "name": "stdout",
     "output_type": "stream",
     "text": [
      "/home/tim/Documents/PyPHM\n",
      "/home/tim/Documents/PyPHM/data\n"
     ]
    }
   ],
   "source": [
    "root_dir = Path.cwd().parent\n",
    "print(root_dir)\n",
    "path_data_raw_folder = Path(root_dir / 'data' )\n",
    "print(path_data_raw_folder)"
   ]
  },
  {
   "cell_type": "code",
   "execution_count": 7,
   "metadata": {},
   "outputs": [
    {
     "name": "stdout",
     "output_type": "stream",
     "text": [
      "/home/tim/Documents/PyPHM/data/ims\n"
     ]
    }
   ],
   "source": [
    "ims = ImsDataLoad(path_data_raw_folder, 'ims', download=False)\n",
    "\n",
    "path_1st_folder = ims.path_1st_folder\n",
    "path_2nd_folder = ims.path_2nd_folder\n",
    "path_3rd_folder = ims.path_3rd_folder\n",
    "\n",
    "file_list = sorted(os.listdir(path_1st_folder))\n",
    "file_name = file_list[0]"
   ]
  },
  {
   "cell_type": "code",
   "execution_count": 8,
   "metadata": {},
   "outputs": [
    {
     "name": "stdout",
     "output_type": "stream",
     "text": [
      "len file_list: 984\n",
      "n_jobs: 6\n"
     ]
    }
   ],
   "source": [
    "df = ims.load_run_as_df(2)"
   ]
  },
  {
   "cell_type": "code",
   "execution_count": 8,
   "metadata": {},
   "outputs": [
    {
     "name": "stdout",
     "output_type": "stream",
     "text": [
      "len file_list: 2156\n"
     ]
    }
   ],
   "source": [
    "df = ims.load_run_as_df(1)"
   ]
  },
  {
   "cell_type": "code",
   "execution_count": 9,
   "metadata": {},
   "outputs": [
    {
     "data": {
      "text/html": [
       "<div>\n",
       "<style scoped>\n",
       "    .dataframe tbody tr th:only-of-type {\n",
       "        vertical-align: middle;\n",
       "    }\n",
       "\n",
       "    .dataframe tbody tr th {\n",
       "        vertical-align: top;\n",
       "    }\n",
       "\n",
       "    .dataframe thead th {\n",
       "        text-align: right;\n",
       "    }\n",
       "</style>\n",
       "<table border=\"1\" class=\"dataframe\">\n",
       "  <thead>\n",
       "    <tr style=\"text-align: right;\">\n",
       "      <th></th>\n",
       "      <th>b1_ch1</th>\n",
       "      <th>b1_ch2</th>\n",
       "      <th>b2_ch3</th>\n",
       "      <th>b2_ch4</th>\n",
       "      <th>id</th>\n",
       "      <th>run</th>\n",
       "      <th>file</th>\n",
       "      <th>time_step</th>\n",
       "    </tr>\n",
       "  </thead>\n",
       "  <tbody>\n",
       "    <tr>\n",
       "      <th>0</th>\n",
       "      <td>-0.049</td>\n",
       "      <td>-0.071</td>\n",
       "      <td>-0.132</td>\n",
       "      <td>-0.010</td>\n",
       "      <td>20</td>\n",
       "      <td>2</td>\n",
       "      <td>2004.02.12.10.32.39</td>\n",
       "      <td>0.000000</td>\n",
       "    </tr>\n",
       "    <tr>\n",
       "      <th>1</th>\n",
       "      <td>-0.042</td>\n",
       "      <td>-0.073</td>\n",
       "      <td>-0.007</td>\n",
       "      <td>-0.105</td>\n",
       "      <td>20</td>\n",
       "      <td>2</td>\n",
       "      <td>2004.02.12.10.32.39</td>\n",
       "      <td>0.000049</td>\n",
       "    </tr>\n",
       "    <tr>\n",
       "      <th>2</th>\n",
       "      <td>0.015</td>\n",
       "      <td>0.000</td>\n",
       "      <td>0.007</td>\n",
       "      <td>0.000</td>\n",
       "      <td>20</td>\n",
       "      <td>2</td>\n",
       "      <td>2004.02.12.10.32.39</td>\n",
       "      <td>0.000098</td>\n",
       "    </tr>\n",
       "    <tr>\n",
       "      <th>3</th>\n",
       "      <td>-0.051</td>\n",
       "      <td>0.020</td>\n",
       "      <td>-0.002</td>\n",
       "      <td>0.100</td>\n",
       "      <td>20</td>\n",
       "      <td>2</td>\n",
       "      <td>2004.02.12.10.32.39</td>\n",
       "      <td>0.000146</td>\n",
       "    </tr>\n",
       "    <tr>\n",
       "      <th>4</th>\n",
       "      <td>-0.107</td>\n",
       "      <td>0.010</td>\n",
       "      <td>0.127</td>\n",
       "      <td>0.054</td>\n",
       "      <td>20</td>\n",
       "      <td>2</td>\n",
       "      <td>2004.02.12.10.32.39</td>\n",
       "      <td>0.000195</td>\n",
       "    </tr>\n",
       "  </tbody>\n",
       "</table>\n",
       "</div>"
      ],
      "text/plain": [
       "   b1_ch1  b1_ch2  b2_ch3  b2_ch4  id run                 file  time_step\n",
       "0  -0.049  -0.071  -0.132  -0.010  20   2  2004.02.12.10.32.39   0.000000\n",
       "1  -0.042  -0.073  -0.007  -0.105  20   2  2004.02.12.10.32.39   0.000049\n",
       "2   0.015   0.000   0.007   0.000  20   2  2004.02.12.10.32.39   0.000098\n",
       "3  -0.051   0.020  -0.002   0.100  20   2  2004.02.12.10.32.39   0.000146\n",
       "4  -0.107   0.010   0.127   0.054  20   2  2004.02.12.10.32.39   0.000195"
      ]
     },
     "execution_count": 9,
     "metadata": {},
     "output_type": "execute_result"
    }
   ],
   "source": [
    "df.head()"
   ]
  },
  {
   "cell_type": "markdown",
   "metadata": {},
   "source": [
    "# Make Ground-Truth Results for Integration Testing"
   ]
  },
  {
   "cell_type": "code",
   "execution_count": 2,
   "metadata": {},
   "outputs": [
    {
     "name": "stdout",
     "output_type": "stream",
     "text": [
      "/home/tim/Documents/PyPHM\n",
      "/home/tim/Documents/PyPHM/tests/integration/fixtures\n"
     ]
    }
   ],
   "source": [
    "root_dir = Path.cwd().parent\n",
    "print(root_dir)\n",
    "path_data_raw_folder = Path(root_dir / 'tests/integration/fixtures' )\n",
    "print(path_data_raw_folder)"
   ]
  },
  {
   "cell_type": "code",
   "execution_count": 3,
   "metadata": {},
   "outputs": [
    {
     "name": "stdout",
     "output_type": "stream",
     "text": [
      "/home/tim/Documents/PyPHM/tests/integration/fixtures/ims\n"
     ]
    }
   ],
   "source": [
    "ims = ImsDataLoad(path_data_raw_folder, download=False)"
   ]
  },
  {
   "cell_type": "code",
   "execution_count": 4,
   "metadata": {},
   "outputs": [
    {
     "name": "stdout",
     "output_type": "stream",
     "text": [
      "len file_list: 2\n",
      "n_jobs: 3\n"
     ]
    }
   ],
   "source": [
    "df = ims.load_run_as_df(1, n_jobs=3)"
   ]
  },
  {
   "cell_type": "code",
   "execution_count": 5,
   "metadata": {},
   "outputs": [
    {
     "data": {
      "text/html": [
       "<div>\n",
       "<style scoped>\n",
       "    .dataframe tbody tr th:only-of-type {\n",
       "        vertical-align: middle;\n",
       "    }\n",
       "\n",
       "    .dataframe tbody tr th {\n",
       "        vertical-align: top;\n",
       "    }\n",
       "\n",
       "    .dataframe thead th {\n",
       "        text-align: right;\n",
       "    }\n",
       "</style>\n",
       "<table border=\"1\" class=\"dataframe\">\n",
       "  <thead>\n",
       "    <tr style=\"text-align: right;\">\n",
       "      <th></th>\n",
       "      <th>id</th>\n",
       "      <th>run</th>\n",
       "      <th>file</th>\n",
       "      <th>time_step</th>\n",
       "      <th>b1_ch1</th>\n",
       "      <th>b1_ch2</th>\n",
       "      <th>b2_ch3</th>\n",
       "      <th>b2_ch4</th>\n",
       "      <th>b3_ch5</th>\n",
       "      <th>b3_ch6</th>\n",
       "      <th>b4_ch7</th>\n",
       "      <th>b4_ch8</th>\n",
       "    </tr>\n",
       "  </thead>\n",
       "  <tbody>\n",
       "    <tr>\n",
       "      <th>0</th>\n",
       "      <td>1_0</td>\n",
       "      <td>1</td>\n",
       "      <td>2003.10.22.12.06.24</td>\n",
       "      <td>0.000000</td>\n",
       "      <td>-0.022</td>\n",
       "      <td>-0.039</td>\n",
       "      <td>-0.183</td>\n",
       "      <td>-0.054</td>\n",
       "      <td>-0.105</td>\n",
       "      <td>-0.134</td>\n",
       "      <td>-0.129</td>\n",
       "      <td>-0.142</td>\n",
       "    </tr>\n",
       "    <tr>\n",
       "      <th>1</th>\n",
       "      <td>1_0</td>\n",
       "      <td>1</td>\n",
       "      <td>2003.10.22.12.06.24</td>\n",
       "      <td>0.000051</td>\n",
       "      <td>-0.105</td>\n",
       "      <td>-0.017</td>\n",
       "      <td>-0.164</td>\n",
       "      <td>-0.183</td>\n",
       "      <td>-0.049</td>\n",
       "      <td>0.029</td>\n",
       "      <td>-0.115</td>\n",
       "      <td>-0.122</td>\n",
       "    </tr>\n",
       "    <tr>\n",
       "      <th>2</th>\n",
       "      <td>1_0</td>\n",
       "      <td>1</td>\n",
       "      <td>2003.10.22.12.06.24</td>\n",
       "      <td>0.000103</td>\n",
       "      <td>-0.183</td>\n",
       "      <td>-0.098</td>\n",
       "      <td>-0.195</td>\n",
       "      <td>-0.125</td>\n",
       "      <td>-0.005</td>\n",
       "      <td>-0.007</td>\n",
       "      <td>-0.171</td>\n",
       "      <td>-0.071</td>\n",
       "    </tr>\n",
       "    <tr>\n",
       "      <th>3</th>\n",
       "      <td>1_0</td>\n",
       "      <td>1</td>\n",
       "      <td>2003.10.22.12.06.24</td>\n",
       "      <td>0.000154</td>\n",
       "      <td>-0.178</td>\n",
       "      <td>-0.161</td>\n",
       "      <td>-0.159</td>\n",
       "      <td>-0.178</td>\n",
       "      <td>-0.100</td>\n",
       "      <td>-0.115</td>\n",
       "      <td>-0.112</td>\n",
       "      <td>-0.078</td>\n",
       "    </tr>\n",
       "    <tr>\n",
       "      <th>4</th>\n",
       "      <td>1_0</td>\n",
       "      <td>1</td>\n",
       "      <td>2003.10.22.12.06.24</td>\n",
       "      <td>0.000206</td>\n",
       "      <td>-0.208</td>\n",
       "      <td>-0.129</td>\n",
       "      <td>-0.261</td>\n",
       "      <td>-0.098</td>\n",
       "      <td>-0.151</td>\n",
       "      <td>-0.205</td>\n",
       "      <td>-0.063</td>\n",
       "      <td>-0.066</td>\n",
       "    </tr>\n",
       "  </tbody>\n",
       "</table>\n",
       "</div>"
      ],
      "text/plain": [
       "    id  run                 file  time_step  b1_ch1  b1_ch2  b2_ch3  b2_ch4  \\\n",
       "0  1_0    1  2003.10.22.12.06.24   0.000000  -0.022  -0.039  -0.183  -0.054   \n",
       "1  1_0    1  2003.10.22.12.06.24   0.000051  -0.105  -0.017  -0.164  -0.183   \n",
       "2  1_0    1  2003.10.22.12.06.24   0.000103  -0.183  -0.098  -0.195  -0.125   \n",
       "3  1_0    1  2003.10.22.12.06.24   0.000154  -0.178  -0.161  -0.159  -0.178   \n",
       "4  1_0    1  2003.10.22.12.06.24   0.000206  -0.208  -0.129  -0.261  -0.098   \n",
       "\n",
       "   b3_ch5  b3_ch6  b4_ch7  b4_ch8  \n",
       "0  -0.105  -0.134  -0.129  -0.142  \n",
       "1  -0.049   0.029  -0.115  -0.122  \n",
       "2  -0.005  -0.007  -0.171  -0.071  \n",
       "3  -0.100  -0.115  -0.112  -0.078  \n",
       "4  -0.151  -0.205  -0.063  -0.066  "
      ]
     },
     "execution_count": 5,
     "metadata": {},
     "output_type": "execute_result"
    }
   ],
   "source": [
    "df.head()"
   ]
  },
  {
   "cell_type": "code",
   "execution_count": 6,
   "metadata": {},
   "outputs": [],
   "source": [
    "# save the dataframe as ims_truncated_results.csv.gz\n",
    "df.to_csv(\n",
    "    root_dir / 'tests/integration/fixtures/ims_truncated_results.csv.gz',\n",
    "    index=False,\n",
    "    compression='gzip',\n",
    ")"
   ]
  },
  {
   "cell_type": "code",
   "execution_count": 22,
   "metadata": {},
   "outputs": [
    {
     "data": {
      "text/plain": [
       "dtype('float64')"
      ]
     },
     "execution_count": 22,
     "metadata": {},
     "output_type": "execute_result"
    }
   ],
   "source": [
    "df['b1_ch1'].dtype"
   ]
  },
  {
   "cell_type": "code",
   "execution_count": 23,
   "metadata": {},
   "outputs": [
    {
     "data": {
      "text/plain": [
       "-0.022"
      ]
     },
     "execution_count": 23,
     "metadata": {},
     "output_type": "execute_result"
    }
   ],
   "source": [
    "df['b1_ch1'][0]"
   ]
  },
  {
   "cell_type": "code",
   "execution_count": 24,
   "metadata": {},
   "outputs": [],
   "source": [
    "df['b1_ch1'] = df['b1_ch1'].astype(np.float32)"
   ]
  },
  {
   "cell_type": "code",
   "execution_count": 25,
   "metadata": {},
   "outputs": [
    {
     "data": {
      "text/html": [
       "<div>\n",
       "<style scoped>\n",
       "    .dataframe tbody tr th:only-of-type {\n",
       "        vertical-align: middle;\n",
       "    }\n",
       "\n",
       "    .dataframe tbody tr th {\n",
       "        vertical-align: top;\n",
       "    }\n",
       "\n",
       "    .dataframe thead th {\n",
       "        text-align: right;\n",
       "    }\n",
       "</style>\n",
       "<table border=\"1\" class=\"dataframe\">\n",
       "  <thead>\n",
       "    <tr style=\"text-align: right;\">\n",
       "      <th></th>\n",
       "      <th>b1_ch1</th>\n",
       "      <th>b1_ch2</th>\n",
       "      <th>b2_ch3</th>\n",
       "      <th>b2_ch4</th>\n",
       "      <th>b3_ch5</th>\n",
       "      <th>b3_ch6</th>\n",
       "      <th>b4_ch7</th>\n",
       "      <th>b4_ch8</th>\n",
       "      <th>id</th>\n",
       "      <th>run</th>\n",
       "      <th>file</th>\n",
       "      <th>time_step</th>\n",
       "    </tr>\n",
       "  </thead>\n",
       "  <tbody>\n",
       "    <tr>\n",
       "      <th>0</th>\n",
       "      <td>-0.022</td>\n",
       "      <td>-0.039</td>\n",
       "      <td>-0.183</td>\n",
       "      <td>-0.054</td>\n",
       "      <td>-0.105</td>\n",
       "      <td>-0.134</td>\n",
       "      <td>-0.129</td>\n",
       "      <td>-0.142</td>\n",
       "      <td>1_0</td>\n",
       "      <td>1</td>\n",
       "      <td>2003.10.22.12.06.24</td>\n",
       "      <td>0.000000</td>\n",
       "    </tr>\n",
       "    <tr>\n",
       "      <th>1</th>\n",
       "      <td>-0.105</td>\n",
       "      <td>-0.017</td>\n",
       "      <td>-0.164</td>\n",
       "      <td>-0.183</td>\n",
       "      <td>-0.049</td>\n",
       "      <td>0.029</td>\n",
       "      <td>-0.115</td>\n",
       "      <td>-0.122</td>\n",
       "      <td>1_0</td>\n",
       "      <td>1</td>\n",
       "      <td>2003.10.22.12.06.24</td>\n",
       "      <td>0.000051</td>\n",
       "    </tr>\n",
       "    <tr>\n",
       "      <th>2</th>\n",
       "      <td>-0.183</td>\n",
       "      <td>-0.098</td>\n",
       "      <td>-0.195</td>\n",
       "      <td>-0.125</td>\n",
       "      <td>-0.005</td>\n",
       "      <td>-0.007</td>\n",
       "      <td>-0.171</td>\n",
       "      <td>-0.071</td>\n",
       "      <td>1_0</td>\n",
       "      <td>1</td>\n",
       "      <td>2003.10.22.12.06.24</td>\n",
       "      <td>0.000103</td>\n",
       "    </tr>\n",
       "    <tr>\n",
       "      <th>3</th>\n",
       "      <td>-0.178</td>\n",
       "      <td>-0.161</td>\n",
       "      <td>-0.159</td>\n",
       "      <td>-0.178</td>\n",
       "      <td>-0.100</td>\n",
       "      <td>-0.115</td>\n",
       "      <td>-0.112</td>\n",
       "      <td>-0.078</td>\n",
       "      <td>1_0</td>\n",
       "      <td>1</td>\n",
       "      <td>2003.10.22.12.06.24</td>\n",
       "      <td>0.000154</td>\n",
       "    </tr>\n",
       "    <tr>\n",
       "      <th>4</th>\n",
       "      <td>-0.208</td>\n",
       "      <td>-0.129</td>\n",
       "      <td>-0.261</td>\n",
       "      <td>-0.098</td>\n",
       "      <td>-0.151</td>\n",
       "      <td>-0.205</td>\n",
       "      <td>-0.063</td>\n",
       "      <td>-0.066</td>\n",
       "      <td>1_0</td>\n",
       "      <td>1</td>\n",
       "      <td>2003.10.22.12.06.24</td>\n",
       "      <td>0.000206</td>\n",
       "    </tr>\n",
       "  </tbody>\n",
       "</table>\n",
       "</div>"
      ],
      "text/plain": [
       "   b1_ch1  b1_ch2  b2_ch3  b2_ch4  b3_ch5  b3_ch6  b4_ch7  b4_ch8   id  run  \\\n",
       "0  -0.022  -0.039  -0.183  -0.054  -0.105  -0.134  -0.129  -0.142  1_0    1   \n",
       "1  -0.105  -0.017  -0.164  -0.183  -0.049   0.029  -0.115  -0.122  1_0    1   \n",
       "2  -0.183  -0.098  -0.195  -0.125  -0.005  -0.007  -0.171  -0.071  1_0    1   \n",
       "3  -0.178  -0.161  -0.159  -0.178  -0.100  -0.115  -0.112  -0.078  1_0    1   \n",
       "4  -0.208  -0.129  -0.261  -0.098  -0.151  -0.205  -0.063  -0.066  1_0    1   \n",
       "\n",
       "                  file  time_step  \n",
       "0  2003.10.22.12.06.24   0.000000  \n",
       "1  2003.10.22.12.06.24   0.000051  \n",
       "2  2003.10.22.12.06.24   0.000103  \n",
       "3  2003.10.22.12.06.24   0.000154  \n",
       "4  2003.10.22.12.06.24   0.000206  "
      ]
     },
     "execution_count": 25,
     "metadata": {},
     "output_type": "execute_result"
    }
   ],
   "source": [
    "df.head()"
   ]
  },
  {
   "cell_type": "markdown",
   "metadata": {},
   "source": [
    "# Scratch"
   ]
  },
  {
   "cell_type": "code",
   "execution_count": null,
   "metadata": {},
   "outputs": [],
   "source": [
    "def process_raw_csv(path_run_folder, file_name, sample_index, run_no, sample_freq=20480.0):\n",
    "\n",
    "    signals_array = np.loadtxt(path_run_folder / file_name, delimiter=\"\\t\")\n",
    "\n",
    "    id_list = [f'{run_no}_{sample_index}'] * len(signals_array)\n",
    "    run_list = [run_no] * len(signals_array)\n",
    "    file_list = [file_name] * len(signals_array)\n",
    "    time_step_array = np.linspace(0.0, len(signals_array) / sample_freq, len(signals_array))\n",
    "\n",
    "    return signals_array, id_list, run_list, file_list, time_step_array"
   ]
  },
  {
   "cell_type": "code",
   "execution_count": null,
   "metadata": {},
   "outputs": [],
   "source": [
    "file_list = sorted(os.listdir(path_1st_folder))\n",
    "file_name = file_list[0]\n",
    "\n",
    "(\n",
    "    signals_array, \n",
    "    id_list, \n",
    "    run_list, \n",
    "    file_list, \n",
    "    time_step_array) = process_raw_csv(path_1st_folder, file_name, 0, 1, sample_freq=20480.0)"
   ]
  },
  {
   "cell_type": "code",
   "execution_count": null,
   "metadata": {},
   "outputs": [],
   "source": [
    "a = np.array(range(0,4))\n",
    "b = np.array(range(4,8))\n",
    "c = np.array(range(8,12))\n",
    "d = np.hstack([a, b, c])\n",
    "d"
   ]
  },
  {
   "cell_type": "code",
   "execution_count": null,
   "metadata": {},
   "outputs": [],
   "source": [
    "df = ims.load_run_as_df(1)"
   ]
  },
  {
   "cell_type": "code",
   "execution_count": null,
   "metadata": {},
   "outputs": [],
   "source": [
    "df.head()"
   ]
  },
  {
   "cell_type": "code",
   "execution_count": null,
   "metadata": {},
   "outputs": [],
   "source": [
    "df.shape"
   ]
  },
  {
   "cell_type": "code",
   "execution_count": null,
   "metadata": {},
   "outputs": [],
   "source": [
    "run.extend(run)\n"
   ]
  },
  {
   "cell_type": "code",
   "execution_count": null,
   "metadata": {},
   "outputs": [],
   "source": [
    "len(run)"
   ]
  },
  {
   "cell_type": "code",
   "execution_count": null,
   "metadata": {},
   "outputs": [],
   "source": [
    "a = [signals, signals]\n",
    "a = np.concatenate(a, axis=0)\n",
    "a.shape"
   ]
  },
  {
   "cell_type": "code",
   "execution_count": null,
   "metadata": {},
   "outputs": [],
   "source": [
    "df = pd.DataFrame(a, columns=ims.col_1st_names)\n",
    "df['run'] = run\n",
    "df.tail()"
   ]
  },
  {
   "cell_type": "code",
   "execution_count": null,
   "metadata": {},
   "outputs": [],
   "source": [
    "run_no = 1\n",
    "sample_index = 0\n",
    "id_list = [f'{run_no}_{sample_index}']*10\n",
    "\n",
    "id_list"
   ]
  },
  {
   "cell_type": "code",
   "execution_count": null,
   "metadata": {},
   "outputs": [],
   "source": [
    "a = np.loadtxt(path_1st_folder / file_name, delimiter=\"\\t\")\n",
    "\n",
    "col_names = ['b1_ch1', 'b1_ch2', 'b2_ch3', 'b2_ch4', 'b3_ch5', 'b3_ch6', 'b4_ch7', 'b4_ch8']\n",
    "df = pd.read_csv(path_1st_folder / file_name, sep='\\t', names=col_names)\n",
    "df.head()"
   ]
  },
  {
   "cell_type": "code",
   "execution_count": null,
   "metadata": {},
   "outputs": [],
   "source": [
    "a[1]"
   ]
  },
  {
   "cell_type": "code",
   "execution_count": null,
   "metadata": {},
   "outputs": [],
   "source": [
    "df = ims.load_run_as_dataframe(run_no=1)"
   ]
  },
  {
   "cell_type": "code",
   "execution_count": null,
   "metadata": {},
   "outputs": [],
   "source": [
    "df.head()"
   ]
  },
  {
   "cell_type": "code",
   "execution_count": null,
   "metadata": {},
   "outputs": [],
   "source": [
    "df.shape"
   ]
  },
  {
   "cell_type": "code",
   "execution_count": null,
   "metadata": {},
   "outputs": [],
   "source": [
    "path_1st_folder = ims.path_1st_folder\n",
    "path_2nd_folder = ims.path_2nd_folder\n",
    "path_3rd_folder = ims.path_3rd_folder"
   ]
  },
  {
   "cell_type": "code",
   "execution_count": null,
   "metadata": {},
   "outputs": [],
   "source": []
  },
  {
   "cell_type": "code",
   "execution_count": null,
   "metadata": {},
   "outputs": [],
   "source": [
    "file_list = sorted(os.listdir(path_3rd_folder))\n",
    "file_list[0]"
   ]
  },
  {
   "cell_type": "code",
   "execution_count": null,
   "metadata": {},
   "outputs": [],
   "source": [
    "file_name = file_list[0]\n",
    "print(file_name)\n",
    "\n",
    "col_names = ['b1_ch1', 'b1_ch2', 'b2_ch3', 'b2_ch4', 'b3_ch5', 'b3_ch6', 'b4_ch7', 'b4_ch8']\n",
    "df = pd.read_csv(path_3rd_folder / file_name, sep='\\t', names=col_names)\n",
    "df.head()"
   ]
  },
  {
   "cell_type": "code",
   "execution_count": null,
   "metadata": {},
   "outputs": [],
   "source": [
    "# columns to add\n",
    "# ['id', 'run', 'start_time_unix', 'date_time', 'unix_time', 'file_name']\n",
    "\n",
    "df['id'] = \"1_\" + file_name\n",
    "df['run'] = 1\n",
    "df.head()"
   ]
  },
  {
   "cell_type": "code",
   "execution_count": null,
   "metadata": {},
   "outputs": [],
   "source": [
    "def process_raw_csv_ims(path_run_folder, file_name, sample_index, run_no, col_names, sample_freq=20480.0):\n",
    "\n",
    "    df = pd.read_csv(path_run_folder / file_name, sep='\\t', names=col_names)\n",
    "\n",
    "    df['id'] = \"1_\" + str(sample_index)\n",
    "    df['run'] = run_no\n",
    "    df['file'] = file_name\n",
    "    df['time'] = np.linspace(0.0, len(df)/sample_freq, len(df))\n",
    "\n",
    "    return df[['id', 'file', 'run', 'time',] + col_names]"
   ]
  },
  {
   "cell_type": "code",
   "execution_count": null,
   "metadata": {},
   "outputs": [],
   "source": [
    "df1 = process_raw_csv_ims(path_3rd_folder, file_name, 0, 3, col_names, sample_freq=20480.0)\n",
    "df1.head()"
   ]
  },
  {
   "cell_type": "code",
   "execution_count": null,
   "metadata": {},
   "outputs": [],
   "source": [
    "def create_xy_dataframe():"
   ]
  },
  {
   "cell_type": "code",
   "execution_count": null,
   "metadata": {},
   "outputs": [],
   "source": [
    "df1['time'][2]"
   ]
  },
  {
   "cell_type": "code",
   "execution_count": null,
   "metadata": {},
   "outputs": [],
   "source": [
    "# convert start_time to unix timestamp\n",
    "start_time_unix = time.mktime(\n",
    "    datetime.datetime.strptime(file_name, \"%Y.%m.%d.%H.%M.%S\").timetuple()\n",
    ")\n",
    "start_time"
   ]
  },
  {
   "cell_type": "code",
   "execution_count": null,
   "metadata": {},
   "outputs": [],
   "source": [
    "date_nice_format = datetime.datetime.fromtimestamp(start_time).strftime(\n",
    "    \"%Y-%m-%d %H:%M:%S\"\n",
    ")  # reformat date\n",
    "date_nice_format\n"
   ]
  },
  {
   "cell_type": "code",
   "execution_count": null,
   "metadata": {},
   "outputs": [],
   "source": [
    "date_list = sorted(os.listdir(path_1st_folder))"
   ]
  },
  {
   "cell_type": "code",
   "execution_count": null,
   "metadata": {},
   "outputs": [],
   "source": [
    "date_list[:10]"
   ]
  },
  {
   "cell_type": "code",
   "execution_count": null,
   "metadata": {},
   "outputs": [],
   "source": []
  }
 ],
 "metadata": {
  "interpreter": {
   "hash": "daff1afd4d675d5e247c0a95a5de0c03bd87d8f7edee7cb37c539016070f1c16"
  },
  "kernelspec": {
   "display_name": "Python 3.8.12 64-bit ('featstore': conda)",
   "language": "python",
   "name": "python3"
  },
  "language_info": {
   "codemirror_mode": {
    "name": "ipython",
    "version": 3
   },
   "file_extension": ".py",
   "mimetype": "text/x-python",
   "name": "python",
   "nbconvert_exporter": "python",
   "pygments_lexer": "ipython3",
   "version": "3.8.12"
  },
  "orig_nbformat": 4
 },
 "nbformat": 4,
 "nbformat_minor": 2
}
