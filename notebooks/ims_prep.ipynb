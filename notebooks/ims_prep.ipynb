{
 "cells": [
  {
   "cell_type": "code",
   "execution_count": 1,
   "metadata": {},
   "outputs": [],
   "source": [
    "\n",
    "from pyphm.datasets.ims import ImsDataLoad\n",
    "from pathlib import Path\n",
    "import pandas as pd\n",
    "import os\n",
    "import numpy as np\n",
    "import time\n",
    "import datetime\n",
    "\n",
    "%load_ext autoreload\n",
    "%autoreload 2"
   ]
  },
  {
   "cell_type": "code",
   "execution_count": 2,
   "metadata": {},
   "outputs": [
    {
     "name": "stdout",
     "output_type": "stream",
     "text": [
      "/home/tim/Documents/PyPHM\n",
      "/home/tim/Documents/PyPHM/data\n"
     ]
    }
   ],
   "source": [
    "root_dir = Path.cwd().parent\n",
    "print(root_dir)\n",
    "path_data_raw_folder = Path(root_dir / 'data' )\n",
    "print(path_data_raw_folder)"
   ]
  },
  {
   "cell_type": "code",
   "execution_count": 3,
   "metadata": {},
   "outputs": [
    {
     "name": "stdout",
     "output_type": "stream",
     "text": [
      "type(root) =  <class 'pathlib.PosixPath'>\n",
      "/home/tim/Documents/PyPHM/data/ims\n"
     ]
    }
   ],
   "source": [
    "ims = ImsDataLoad(path_data_raw_folder, 'ims', download=False)"
   ]
  },
  {
   "cell_type": "code",
   "execution_count": 15,
   "metadata": {},
   "outputs": [],
   "source": [
    "path_1st_folder = ims.path_1st_folder\n",
    "path_2nd_folder = ims.path_2nd_folder\n",
    "path_3rd_folder = ims.path_3rd_folder"
   ]
  },
  {
   "cell_type": "code",
   "execution_count": 19,
   "metadata": {},
   "outputs": [
    {
     "data": {
      "text/plain": [
       "'2004.03.04.09.27.46'"
      ]
     },
     "execution_count": 19,
     "metadata": {},
     "output_type": "execute_result"
    }
   ],
   "source": [
    "file_list = sorted(os.listdir(path_3rd_folder))\n",
    "file_list[0]"
   ]
  },
  {
   "cell_type": "code",
   "execution_count": 20,
   "metadata": {},
   "outputs": [
    {
     "name": "stdout",
     "output_type": "stream",
     "text": [
      "2004.03.04.09.27.46\n"
     ]
    },
    {
     "data": {
      "text/html": [
       "<div>\n",
       "<style scoped>\n",
       "    .dataframe tbody tr th:only-of-type {\n",
       "        vertical-align: middle;\n",
       "    }\n",
       "\n",
       "    .dataframe tbody tr th {\n",
       "        vertical-align: top;\n",
       "    }\n",
       "\n",
       "    .dataframe thead th {\n",
       "        text-align: right;\n",
       "    }\n",
       "</style>\n",
       "<table border=\"1\" class=\"dataframe\">\n",
       "  <thead>\n",
       "    <tr style=\"text-align: right;\">\n",
       "      <th></th>\n",
       "      <th>b1_ch1</th>\n",
       "      <th>b1_ch2</th>\n",
       "      <th>b2_ch3</th>\n",
       "      <th>b2_ch4</th>\n",
       "      <th>b3_ch5</th>\n",
       "      <th>b3_ch6</th>\n",
       "      <th>b4_ch7</th>\n",
       "      <th>b4_ch8</th>\n",
       "    </tr>\n",
       "  </thead>\n",
       "  <tbody>\n",
       "    <tr>\n",
       "      <th>0</th>\n",
       "      <td>0.034</td>\n",
       "      <td>0.264</td>\n",
       "      <td>0.039</td>\n",
       "      <td>-0.046</td>\n",
       "      <td>NaN</td>\n",
       "      <td>NaN</td>\n",
       "      <td>NaN</td>\n",
       "      <td>NaN</td>\n",
       "    </tr>\n",
       "    <tr>\n",
       "      <th>1</th>\n",
       "      <td>0.103</td>\n",
       "      <td>0.083</td>\n",
       "      <td>-0.061</td>\n",
       "      <td>-0.012</td>\n",
       "      <td>NaN</td>\n",
       "      <td>NaN</td>\n",
       "      <td>NaN</td>\n",
       "      <td>NaN</td>\n",
       "    </tr>\n",
       "    <tr>\n",
       "      <th>2</th>\n",
       "      <td>0.095</td>\n",
       "      <td>-0.039</td>\n",
       "      <td>-0.007</td>\n",
       "      <td>0.039</td>\n",
       "      <td>NaN</td>\n",
       "      <td>NaN</td>\n",
       "      <td>NaN</td>\n",
       "      <td>NaN</td>\n",
       "    </tr>\n",
       "    <tr>\n",
       "      <th>3</th>\n",
       "      <td>0.000</td>\n",
       "      <td>0.110</td>\n",
       "      <td>0.022</td>\n",
       "      <td>-0.002</td>\n",
       "      <td>NaN</td>\n",
       "      <td>NaN</td>\n",
       "      <td>NaN</td>\n",
       "      <td>NaN</td>\n",
       "    </tr>\n",
       "    <tr>\n",
       "      <th>4</th>\n",
       "      <td>0.005</td>\n",
       "      <td>0.154</td>\n",
       "      <td>-0.127</td>\n",
       "      <td>-0.020</td>\n",
       "      <td>NaN</td>\n",
       "      <td>NaN</td>\n",
       "      <td>NaN</td>\n",
       "      <td>NaN</td>\n",
       "    </tr>\n",
       "  </tbody>\n",
       "</table>\n",
       "</div>"
      ],
      "text/plain": [
       "   b1_ch1  b1_ch2  b2_ch3  b2_ch4  b3_ch5  b3_ch6  b4_ch7  b4_ch8\n",
       "0   0.034   0.264   0.039  -0.046     NaN     NaN     NaN     NaN\n",
       "1   0.103   0.083  -0.061  -0.012     NaN     NaN     NaN     NaN\n",
       "2   0.095  -0.039  -0.007   0.039     NaN     NaN     NaN     NaN\n",
       "3   0.000   0.110   0.022  -0.002     NaN     NaN     NaN     NaN\n",
       "4   0.005   0.154  -0.127  -0.020     NaN     NaN     NaN     NaN"
      ]
     },
     "execution_count": 20,
     "metadata": {},
     "output_type": "execute_result"
    }
   ],
   "source": [
    "file_name = file_list[0]\n",
    "print(file_name)\n",
    "\n",
    "col_names = ['b1_ch1', 'b1_ch2', 'b2_ch3', 'b2_ch4', 'b3_ch5', 'b3_ch6', 'b4_ch7', 'b4_ch8']\n",
    "df = pd.read_csv(path_3rd_folder / file_name, sep='\\t', names=col_names)\n",
    "df.head()"
   ]
  },
  {
   "cell_type": "code",
   "execution_count": 6,
   "metadata": {},
   "outputs": [
    {
     "data": {
      "text/html": [
       "<div>\n",
       "<style scoped>\n",
       "    .dataframe tbody tr th:only-of-type {\n",
       "        vertical-align: middle;\n",
       "    }\n",
       "\n",
       "    .dataframe tbody tr th {\n",
       "        vertical-align: top;\n",
       "    }\n",
       "\n",
       "    .dataframe thead th {\n",
       "        text-align: right;\n",
       "    }\n",
       "</style>\n",
       "<table border=\"1\" class=\"dataframe\">\n",
       "  <thead>\n",
       "    <tr style=\"text-align: right;\">\n",
       "      <th></th>\n",
       "      <th>b1_ch1</th>\n",
       "      <th>b1_ch2</th>\n",
       "      <th>b2_ch3</th>\n",
       "      <th>b2_ch4</th>\n",
       "      <th>b3_ch5</th>\n",
       "      <th>b3_ch6</th>\n",
       "      <th>b4_ch7</th>\n",
       "      <th>b4_ch8</th>\n",
       "      <th>id</th>\n",
       "      <th>run</th>\n",
       "    </tr>\n",
       "  </thead>\n",
       "  <tbody>\n",
       "    <tr>\n",
       "      <th>0</th>\n",
       "      <td>-0.022</td>\n",
       "      <td>-0.039</td>\n",
       "      <td>-0.183</td>\n",
       "      <td>-0.054</td>\n",
       "      <td>-0.105</td>\n",
       "      <td>-0.134</td>\n",
       "      <td>-0.129</td>\n",
       "      <td>-0.142</td>\n",
       "      <td>1_2003.10.22.12.06.24</td>\n",
       "      <td>1</td>\n",
       "    </tr>\n",
       "    <tr>\n",
       "      <th>1</th>\n",
       "      <td>-0.105</td>\n",
       "      <td>-0.017</td>\n",
       "      <td>-0.164</td>\n",
       "      <td>-0.183</td>\n",
       "      <td>-0.049</td>\n",
       "      <td>0.029</td>\n",
       "      <td>-0.115</td>\n",
       "      <td>-0.122</td>\n",
       "      <td>1_2003.10.22.12.06.24</td>\n",
       "      <td>1</td>\n",
       "    </tr>\n",
       "    <tr>\n",
       "      <th>2</th>\n",
       "      <td>-0.183</td>\n",
       "      <td>-0.098</td>\n",
       "      <td>-0.195</td>\n",
       "      <td>-0.125</td>\n",
       "      <td>-0.005</td>\n",
       "      <td>-0.007</td>\n",
       "      <td>-0.171</td>\n",
       "      <td>-0.071</td>\n",
       "      <td>1_2003.10.22.12.06.24</td>\n",
       "      <td>1</td>\n",
       "    </tr>\n",
       "    <tr>\n",
       "      <th>3</th>\n",
       "      <td>-0.178</td>\n",
       "      <td>-0.161</td>\n",
       "      <td>-0.159</td>\n",
       "      <td>-0.178</td>\n",
       "      <td>-0.100</td>\n",
       "      <td>-0.115</td>\n",
       "      <td>-0.112</td>\n",
       "      <td>-0.078</td>\n",
       "      <td>1_2003.10.22.12.06.24</td>\n",
       "      <td>1</td>\n",
       "    </tr>\n",
       "    <tr>\n",
       "      <th>4</th>\n",
       "      <td>-0.208</td>\n",
       "      <td>-0.129</td>\n",
       "      <td>-0.261</td>\n",
       "      <td>-0.098</td>\n",
       "      <td>-0.151</td>\n",
       "      <td>-0.205</td>\n",
       "      <td>-0.063</td>\n",
       "      <td>-0.066</td>\n",
       "      <td>1_2003.10.22.12.06.24</td>\n",
       "      <td>1</td>\n",
       "    </tr>\n",
       "  </tbody>\n",
       "</table>\n",
       "</div>"
      ],
      "text/plain": [
       "   b1_ch1  b1_ch2  b2_ch3  b2_ch4  b3_ch5  b3_ch6  b4_ch7  b4_ch8  \\\n",
       "0  -0.022  -0.039  -0.183  -0.054  -0.105  -0.134  -0.129  -0.142   \n",
       "1  -0.105  -0.017  -0.164  -0.183  -0.049   0.029  -0.115  -0.122   \n",
       "2  -0.183  -0.098  -0.195  -0.125  -0.005  -0.007  -0.171  -0.071   \n",
       "3  -0.178  -0.161  -0.159  -0.178  -0.100  -0.115  -0.112  -0.078   \n",
       "4  -0.208  -0.129  -0.261  -0.098  -0.151  -0.205  -0.063  -0.066   \n",
       "\n",
       "                      id  run  \n",
       "0  1_2003.10.22.12.06.24    1  \n",
       "1  1_2003.10.22.12.06.24    1  \n",
       "2  1_2003.10.22.12.06.24    1  \n",
       "3  1_2003.10.22.12.06.24    1  \n",
       "4  1_2003.10.22.12.06.24    1  "
      ]
     },
     "execution_count": 6,
     "metadata": {},
     "output_type": "execute_result"
    }
   ],
   "source": [
    "# columns to add\n",
    "# ['id', 'run', 'start_time_unix', 'date_time', 'unix_time', 'file_name']\n",
    "\n",
    "df['id'] = \"1_\" + file_name\n",
    "df['run'] = 1\n",
    "df.head()"
   ]
  },
  {
   "cell_type": "code",
   "execution_count": 26,
   "metadata": {},
   "outputs": [],
   "source": [
    "def process_raw_csv(path_run_folder, file_name, sample_index, run_no, col_names, sample_freq=20480.0):\n",
    "\n",
    "    df = pd.read_csv(path_run_folder / file_name, sep='\\t', names=col_names)\n",
    "\n",
    "    df['id'] = \"1_\" + str(sample_index)\n",
    "    df['run'] = run_no\n",
    "    df['file'] = file_name\n",
    "    df['time'] = np.linspace(0.0, len(df)/sample_freq, len(df))\n",
    "\n",
    "    return df[['id', 'file', 'run', 'time',] + col_names]"
   ]
  },
  {
   "cell_type": "code",
   "execution_count": 27,
   "metadata": {},
   "outputs": [
    {
     "data": {
      "text/html": [
       "<div>\n",
       "<style scoped>\n",
       "    .dataframe tbody tr th:only-of-type {\n",
       "        vertical-align: middle;\n",
       "    }\n",
       "\n",
       "    .dataframe tbody tr th {\n",
       "        vertical-align: top;\n",
       "    }\n",
       "\n",
       "    .dataframe thead th {\n",
       "        text-align: right;\n",
       "    }\n",
       "</style>\n",
       "<table border=\"1\" class=\"dataframe\">\n",
       "  <thead>\n",
       "    <tr style=\"text-align: right;\">\n",
       "      <th></th>\n",
       "      <th>id</th>\n",
       "      <th>file</th>\n",
       "      <th>run</th>\n",
       "      <th>time</th>\n",
       "      <th>b1_ch1</th>\n",
       "      <th>b1_ch2</th>\n",
       "      <th>b2_ch3</th>\n",
       "      <th>b2_ch4</th>\n",
       "      <th>b3_ch5</th>\n",
       "      <th>b3_ch6</th>\n",
       "      <th>b4_ch7</th>\n",
       "      <th>b4_ch8</th>\n",
       "    </tr>\n",
       "  </thead>\n",
       "  <tbody>\n",
       "    <tr>\n",
       "      <th>0</th>\n",
       "      <td>1_0</td>\n",
       "      <td>2004.03.04.09.27.46</td>\n",
       "      <td>3</td>\n",
       "      <td>0.000000</td>\n",
       "      <td>0.034</td>\n",
       "      <td>0.264</td>\n",
       "      <td>0.039</td>\n",
       "      <td>-0.046</td>\n",
       "      <td>NaN</td>\n",
       "      <td>NaN</td>\n",
       "      <td>NaN</td>\n",
       "      <td>NaN</td>\n",
       "    </tr>\n",
       "    <tr>\n",
       "      <th>1</th>\n",
       "      <td>1_0</td>\n",
       "      <td>2004.03.04.09.27.46</td>\n",
       "      <td>3</td>\n",
       "      <td>0.000049</td>\n",
       "      <td>0.103</td>\n",
       "      <td>0.083</td>\n",
       "      <td>-0.061</td>\n",
       "      <td>-0.012</td>\n",
       "      <td>NaN</td>\n",
       "      <td>NaN</td>\n",
       "      <td>NaN</td>\n",
       "      <td>NaN</td>\n",
       "    </tr>\n",
       "    <tr>\n",
       "      <th>2</th>\n",
       "      <td>1_0</td>\n",
       "      <td>2004.03.04.09.27.46</td>\n",
       "      <td>3</td>\n",
       "      <td>0.000098</td>\n",
       "      <td>0.095</td>\n",
       "      <td>-0.039</td>\n",
       "      <td>-0.007</td>\n",
       "      <td>0.039</td>\n",
       "      <td>NaN</td>\n",
       "      <td>NaN</td>\n",
       "      <td>NaN</td>\n",
       "      <td>NaN</td>\n",
       "    </tr>\n",
       "    <tr>\n",
       "      <th>3</th>\n",
       "      <td>1_0</td>\n",
       "      <td>2004.03.04.09.27.46</td>\n",
       "      <td>3</td>\n",
       "      <td>0.000146</td>\n",
       "      <td>0.000</td>\n",
       "      <td>0.110</td>\n",
       "      <td>0.022</td>\n",
       "      <td>-0.002</td>\n",
       "      <td>NaN</td>\n",
       "      <td>NaN</td>\n",
       "      <td>NaN</td>\n",
       "      <td>NaN</td>\n",
       "    </tr>\n",
       "    <tr>\n",
       "      <th>4</th>\n",
       "      <td>1_0</td>\n",
       "      <td>2004.03.04.09.27.46</td>\n",
       "      <td>3</td>\n",
       "      <td>0.000195</td>\n",
       "      <td>0.005</td>\n",
       "      <td>0.154</td>\n",
       "      <td>-0.127</td>\n",
       "      <td>-0.020</td>\n",
       "      <td>NaN</td>\n",
       "      <td>NaN</td>\n",
       "      <td>NaN</td>\n",
       "      <td>NaN</td>\n",
       "    </tr>\n",
       "  </tbody>\n",
       "</table>\n",
       "</div>"
      ],
      "text/plain": [
       "    id                 file  run      time  b1_ch1  b1_ch2  b2_ch3  b2_ch4  \\\n",
       "0  1_0  2004.03.04.09.27.46    3  0.000000   0.034   0.264   0.039  -0.046   \n",
       "1  1_0  2004.03.04.09.27.46    3  0.000049   0.103   0.083  -0.061  -0.012   \n",
       "2  1_0  2004.03.04.09.27.46    3  0.000098   0.095  -0.039  -0.007   0.039   \n",
       "3  1_0  2004.03.04.09.27.46    3  0.000146   0.000   0.110   0.022  -0.002   \n",
       "4  1_0  2004.03.04.09.27.46    3  0.000195   0.005   0.154  -0.127  -0.020   \n",
       "\n",
       "   b3_ch5  b3_ch6  b4_ch7  b4_ch8  \n",
       "0     NaN     NaN     NaN     NaN  \n",
       "1     NaN     NaN     NaN     NaN  \n",
       "2     NaN     NaN     NaN     NaN  \n",
       "3     NaN     NaN     NaN     NaN  \n",
       "4     NaN     NaN     NaN     NaN  "
      ]
     },
     "execution_count": 27,
     "metadata": {},
     "output_type": "execute_result"
    }
   ],
   "source": [
    "df1 = process_raw_csv(path_3rd_folder, file_name, 0, 3, col_names, sample_freq=20480.0)\n",
    "df1.head()"
   ]
  },
  {
   "cell_type": "code",
   "execution_count": 8,
   "metadata": {},
   "outputs": [
    {
     "data": {
      "text/plain": [
       "1066849584.0"
      ]
     },
     "execution_count": 8,
     "metadata": {},
     "output_type": "execute_result"
    }
   ],
   "source": [
    "# convert start_time to unix timestamp\n",
    "start_time_unix = time.mktime(\n",
    "    datetime.datetime.strptime(file_name, \"%Y.%m.%d.%H.%M.%S\").timetuple()\n",
    ")\n",
    "start_time"
   ]
  },
  {
   "cell_type": "code",
   "execution_count": 9,
   "metadata": {},
   "outputs": [
    {
     "data": {
      "text/plain": [
       "'2003-10-22 12:06:24'"
      ]
     },
     "execution_count": 9,
     "metadata": {},
     "output_type": "execute_result"
    }
   ],
   "source": [
    "date_nice_format = datetime.datetime.fromtimestamp(start_time).strftime(\n",
    "    \"%Y-%m-%d %H:%M:%S\"\n",
    ")  # reformat date\n",
    "date_nice_format\n"
   ]
  },
  {
   "cell_type": "code",
   "execution_count": 7,
   "metadata": {},
   "outputs": [],
   "source": [
    "date_list = sorted(os.listdir(path_1st_folder))"
   ]
  },
  {
   "cell_type": "code",
   "execution_count": 10,
   "metadata": {},
   "outputs": [
    {
     "data": {
      "text/plain": [
       "['2003.10.22.12.06.24',\n",
       " '2003.10.22.12.09.13',\n",
       " '2003.10.22.12.14.13',\n",
       " '2003.10.22.12.19.13',\n",
       " '2003.10.22.12.24.13',\n",
       " '2003.10.22.12.29.13',\n",
       " '2003.10.22.12.34.13',\n",
       " '2003.10.22.12.39.13',\n",
       " '2003.10.22.12.44.13',\n",
       " '2003.10.22.12.49.13']"
      ]
     },
     "execution_count": 10,
     "metadata": {},
     "output_type": "execute_result"
    }
   ],
   "source": [
    "date_list[:10]"
   ]
  },
  {
   "cell_type": "code",
   "execution_count": null,
   "metadata": {},
   "outputs": [],
   "source": []
  }
 ],
 "metadata": {
  "interpreter": {
   "hash": "daff1afd4d675d5e247c0a95a5de0c03bd87d8f7edee7cb37c539016070f1c16"
  },
  "kernelspec": {
   "display_name": "Python 3.8.12 64-bit ('featstore': conda)",
   "language": "python",
   "name": "python3"
  },
  "language_info": {
   "codemirror_mode": {
    "name": "ipython",
    "version": 3
   },
   "file_extension": ".py",
   "mimetype": "text/x-python",
   "name": "python",
   "nbconvert_exporter": "python",
   "pygments_lexer": "ipython3",
   "version": "3.8.12"
  },
  "orig_nbformat": 4
 },
 "nbformat": 4,
 "nbformat_minor": 2
}
