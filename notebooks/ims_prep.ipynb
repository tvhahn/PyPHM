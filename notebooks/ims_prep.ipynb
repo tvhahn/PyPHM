{
 "cells": [
  {
   "cell_type": "code",
   "execution_count": 1,
   "metadata": {},
   "outputs": [],
   "source": [
    "\n",
    "from pyphm.datasets.ims import ImsDataLoad\n",
    "from pathlib import Path\n",
    "import pandas as pd\n",
    "import os\n",
    "import numpy as np\n",
    "import time\n",
    "import datetime\n",
    "import csv\n",
    "\n",
    "%load_ext autoreload\n",
    "%autoreload 2"
   ]
  },
  {
   "cell_type": "code",
   "execution_count": 2,
   "metadata": {},
   "outputs": [
    {
     "name": "stdout",
     "output_type": "stream",
     "text": [
      "/home/tim/Documents/PyPHM\n",
      "/home/tim/Documents/PyPHM/data\n"
     ]
    }
   ],
   "source": [
    "root_dir = Path.cwd().parent\n",
    "print(root_dir)\n",
    "path_data_raw_folder = Path(root_dir / 'data' )\n",
    "print(path_data_raw_folder)"
   ]
  },
  {
   "cell_type": "code",
   "execution_count": 3,
   "metadata": {},
   "outputs": [
    {
     "name": "stdout",
     "output_type": "stream",
     "text": [
      "type(root) =  <class 'pathlib.PosixPath'>\n",
      "/home/tim/Documents/PyPHM/data/ims\n"
     ]
    }
   ],
   "source": [
    "ims = ImsDataLoad(path_data_raw_folder, 'ims', download=False)\n",
    "\n",
    "path_1st_folder = ims.path_1st_folder\n",
    "path_2nd_folder = ims.path_2nd_folder\n",
    "path_3rd_folder = ims.path_3rd_folder\n",
    "\n",
    "file_list = sorted(os.listdir(path_1st_folder))\n",
    "file_name = file_list[0]"
   ]
  },
  {
   "cell_type": "code",
   "execution_count": 4,
   "metadata": {},
   "outputs": [
    {
     "name": "stdout",
     "output_type": "stream",
     "text": [
      "len file_list: 2156\n",
      "Processing 2003.10.22.12.06.24, i=0 - run 1\n",
      "Processing 2003.10.22.16.54.13, i=50 - run 1\n",
      "Processing 2003.10.23.01.04.13, i=100 - run 1\n",
      "Processing 2003.10.23.09.24.13, i=150 - run 1\n",
      "Processing 2003.10.29.21.59.46, i=200 - run 1\n",
      "Processing 2003.10.31.02.39.46, i=250 - run 1\n",
      "Processing 2003.10.31.12.41.44, i=300 - run 1\n",
      "Processing 2003.10.31.21.01.44, i=350 - run 1\n",
      "Processing 2003.11.01.05.21.44, i=400 - run 1\n",
      "Processing 2003.11.01.13.41.44, i=450 - run 1\n",
      "Processing 2003.11.01.22.01.44, i=500 - run 1\n",
      "Processing 2003.11.07.16.31.44, i=550 - run 1\n",
      "Processing 2003.11.08.12.21.44, i=600 - run 1\n",
      "Processing 2003.11.08.20.41.44, i=650 - run 1\n",
      "Processing 2003.11.09.05.01.44, i=700 - run 1\n",
      "Processing 2003.11.09.13.15.58, i=750 - run 1\n",
      "Processing 2003.11.10.01.05.58, i=800 - run 1\n",
      "Processing 2003.11.10.09.25.58, i=850 - run 1\n",
      "Processing 2003.11.14.12.12.17, i=900 - run 1\n",
      "Processing 2003.11.14.20.58.46, i=950 - run 1\n",
      "Processing 2003.11.15.05.18.46, i=1000 - run 1\n",
      "Processing 2003.11.15.13.38.46, i=1050 - run 1\n",
      "Processing 2003.11.15.21.58.46, i=1100 - run 1\n",
      "Processing 2003.11.16.06.18.46, i=1150 - run 1\n",
      "Processing 2003.11.16.14.38.46, i=1200 - run 1\n",
      "Processing 2003.11.17.12.32.30, i=1250 - run 1\n",
      "Processing 2003.11.17.20.52.30, i=1300 - run 1\n",
      "Processing 2003.11.18.05.12.30, i=1350 - run 1\n",
      "Processing 2003.11.18.13.32.30, i=1400 - run 1\n",
      "Processing 2003.11.19.12.56.07, i=1450 - run 1\n",
      "Processing 2003.11.19.21.16.07, i=1500 - run 1\n",
      "Processing 2003.11.20.15.24.03, i=1550 - run 1\n",
      "Processing 2003.11.20.19.34.03, i=1600 - run 1\n",
      "Processing 2003.11.21.05.34.03, i=1650 - run 1\n",
      "Processing 2003.11.21.18.26.56, i=1700 - run 1\n",
      "Processing 2003.11.22.02.46.56, i=1750 - run 1\n",
      "Processing 2003.11.22.11.06.56, i=1800 - run 1\n",
      "Processing 2003.11.22.19.26.56, i=1850 - run 1\n",
      "Processing 2003.11.23.06.26.56, i=1900 - run 1\n",
      "Processing 2003.11.23.14.46.56, i=1950 - run 1\n",
      "Processing 2003.11.24.01.11.24, i=2000 - run 1\n",
      "Processing 2003.11.24.10.51.24, i=2050 - run 1\n",
      "Processing 2003.11.24.20.57.32, i=2100 - run 1\n",
      "Processing 2003.11.25.15.57.32, i=2150 - run 1\n"
     ]
    }
   ],
   "source": [
    "df = ims.load_run_as_df(1)"
   ]
  },
  {
   "cell_type": "code",
   "execution_count": 6,
   "metadata": {},
   "outputs": [
    {
     "data": {
      "text/plain": [
       "(44154880, 12)"
      ]
     },
     "execution_count": 6,
     "metadata": {},
     "output_type": "execute_result"
    }
   ],
   "source": [
    "df.shape"
   ]
  },
  {
   "cell_type": "markdown",
   "metadata": {},
   "source": [
    "# Scratch"
   ]
  },
  {
   "cell_type": "code",
   "execution_count": null,
   "metadata": {},
   "outputs": [],
   "source": [
    "def process_raw_csv(path_run_folder, file_name, sample_index, run_no, sample_freq=20480.0):\n",
    "\n",
    "    signals_array = np.loadtxt(path_run_folder / file_name, delimiter=\"\\t\")\n",
    "\n",
    "    id_list = [f'{run_no}_{sample_index}'] * len(signals_array)\n",
    "    run_list = [run_no] * len(signals_array)\n",
    "    file_list = [file_name] * len(signals_array)\n",
    "    time_step_array = np.linspace(0.0, len(signals_array) / sample_freq, len(signals_array))\n",
    "\n",
    "    return signals_array, id_list, run_list, file_list, time_step_array"
   ]
  },
  {
   "cell_type": "code",
   "execution_count": null,
   "metadata": {},
   "outputs": [],
   "source": [
    "file_list = sorted(os.listdir(path_1st_folder))\n",
    "file_name = file_list[0]\n",
    "\n",
    "(\n",
    "    signals_array, \n",
    "    id_list, \n",
    "    run_list, \n",
    "    file_list, \n",
    "    time_step_array) = process_raw_csv(path_1st_folder, file_name, 0, 1, sample_freq=20480.0)"
   ]
  },
  {
   "cell_type": "code",
   "execution_count": null,
   "metadata": {},
   "outputs": [],
   "source": [
    "a = np.array(range(0,4))\n",
    "b = np.array(range(4,8))\n",
    "c = np.array(range(8,12))\n",
    "d = np.hstack([a, b, c])\n",
    "d"
   ]
  },
  {
   "cell_type": "code",
   "execution_count": null,
   "metadata": {},
   "outputs": [],
   "source": [
    "df = ims.load_run_as_df(1)"
   ]
  },
  {
   "cell_type": "code",
   "execution_count": null,
   "metadata": {},
   "outputs": [],
   "source": [
    "df.head()"
   ]
  },
  {
   "cell_type": "code",
   "execution_count": null,
   "metadata": {},
   "outputs": [],
   "source": [
    "df.shape"
   ]
  },
  {
   "cell_type": "code",
   "execution_count": null,
   "metadata": {},
   "outputs": [],
   "source": [
    "run.extend(run)\n"
   ]
  },
  {
   "cell_type": "code",
   "execution_count": null,
   "metadata": {},
   "outputs": [],
   "source": [
    "len(run)"
   ]
  },
  {
   "cell_type": "code",
   "execution_count": null,
   "metadata": {},
   "outputs": [],
   "source": [
    "a = [signals, signals]\n",
    "a = np.concatenate(a, axis=0)\n",
    "a.shape"
   ]
  },
  {
   "cell_type": "code",
   "execution_count": null,
   "metadata": {},
   "outputs": [],
   "source": [
    "df = pd.DataFrame(a, columns=ims.col_1st_names)\n",
    "df['run'] = run\n",
    "df.tail()"
   ]
  },
  {
   "cell_type": "code",
   "execution_count": null,
   "metadata": {},
   "outputs": [],
   "source": [
    "run_no = 1\n",
    "sample_index = 0\n",
    "id_list = [f'{run_no}_{sample_index}']*10\n",
    "\n",
    "id_list"
   ]
  },
  {
   "cell_type": "code",
   "execution_count": null,
   "metadata": {},
   "outputs": [],
   "source": [
    "a = np.loadtxt(path_1st_folder / file_name, delimiter=\"\\t\")\n",
    "\n",
    "col_names = ['b1_ch1', 'b1_ch2', 'b2_ch3', 'b2_ch4', 'b3_ch5', 'b3_ch6', 'b4_ch7', 'b4_ch8']\n",
    "df = pd.read_csv(path_1st_folder / file_name, sep='\\t', names=col_names)\n",
    "df.head()"
   ]
  },
  {
   "cell_type": "code",
   "execution_count": null,
   "metadata": {},
   "outputs": [],
   "source": [
    "a[1]"
   ]
  },
  {
   "cell_type": "code",
   "execution_count": null,
   "metadata": {},
   "outputs": [],
   "source": [
    "df = ims.load_run_as_dataframe(run_no=1)"
   ]
  },
  {
   "cell_type": "code",
   "execution_count": null,
   "metadata": {},
   "outputs": [],
   "source": [
    "df.head()"
   ]
  },
  {
   "cell_type": "code",
   "execution_count": null,
   "metadata": {},
   "outputs": [],
   "source": [
    "df.shape"
   ]
  },
  {
   "cell_type": "code",
   "execution_count": null,
   "metadata": {},
   "outputs": [],
   "source": [
    "path_1st_folder = ims.path_1st_folder\n",
    "path_2nd_folder = ims.path_2nd_folder\n",
    "path_3rd_folder = ims.path_3rd_folder"
   ]
  },
  {
   "cell_type": "code",
   "execution_count": null,
   "metadata": {},
   "outputs": [],
   "source": []
  },
  {
   "cell_type": "code",
   "execution_count": null,
   "metadata": {},
   "outputs": [],
   "source": [
    "file_list = sorted(os.listdir(path_3rd_folder))\n",
    "file_list[0]"
   ]
  },
  {
   "cell_type": "code",
   "execution_count": null,
   "metadata": {},
   "outputs": [],
   "source": [
    "file_name = file_list[0]\n",
    "print(file_name)\n",
    "\n",
    "col_names = ['b1_ch1', 'b1_ch2', 'b2_ch3', 'b2_ch4', 'b3_ch5', 'b3_ch6', 'b4_ch7', 'b4_ch8']\n",
    "df = pd.read_csv(path_3rd_folder / file_name, sep='\\t', names=col_names)\n",
    "df.head()"
   ]
  },
  {
   "cell_type": "code",
   "execution_count": null,
   "metadata": {},
   "outputs": [],
   "source": [
    "# columns to add\n",
    "# ['id', 'run', 'start_time_unix', 'date_time', 'unix_time', 'file_name']\n",
    "\n",
    "df['id'] = \"1_\" + file_name\n",
    "df['run'] = 1\n",
    "df.head()"
   ]
  },
  {
   "cell_type": "code",
   "execution_count": null,
   "metadata": {},
   "outputs": [],
   "source": [
    "def process_raw_csv_ims(path_run_folder, file_name, sample_index, run_no, col_names, sample_freq=20480.0):\n",
    "\n",
    "    df = pd.read_csv(path_run_folder / file_name, sep='\\t', names=col_names)\n",
    "\n",
    "    df['id'] = \"1_\" + str(sample_index)\n",
    "    df['run'] = run_no\n",
    "    df['file'] = file_name\n",
    "    df['time'] = np.linspace(0.0, len(df)/sample_freq, len(df))\n",
    "\n",
    "    return df[['id', 'file', 'run', 'time',] + col_names]"
   ]
  },
  {
   "cell_type": "code",
   "execution_count": null,
   "metadata": {},
   "outputs": [],
   "source": [
    "df1 = process_raw_csv_ims(path_3rd_folder, file_name, 0, 3, col_names, sample_freq=20480.0)\n",
    "df1.head()"
   ]
  },
  {
   "cell_type": "code",
   "execution_count": null,
   "metadata": {},
   "outputs": [],
   "source": [
    "def create_xy_dataframe():"
   ]
  },
  {
   "cell_type": "code",
   "execution_count": null,
   "metadata": {},
   "outputs": [],
   "source": [
    "df1['time'][2]"
   ]
  },
  {
   "cell_type": "code",
   "execution_count": null,
   "metadata": {},
   "outputs": [],
   "source": [
    "# convert start_time to unix timestamp\n",
    "start_time_unix = time.mktime(\n",
    "    datetime.datetime.strptime(file_name, \"%Y.%m.%d.%H.%M.%S\").timetuple()\n",
    ")\n",
    "start_time"
   ]
  },
  {
   "cell_type": "code",
   "execution_count": null,
   "metadata": {},
   "outputs": [],
   "source": [
    "date_nice_format = datetime.datetime.fromtimestamp(start_time).strftime(\n",
    "    \"%Y-%m-%d %H:%M:%S\"\n",
    ")  # reformat date\n",
    "date_nice_format\n"
   ]
  },
  {
   "cell_type": "code",
   "execution_count": null,
   "metadata": {},
   "outputs": [],
   "source": [
    "date_list = sorted(os.listdir(path_1st_folder))"
   ]
  },
  {
   "cell_type": "code",
   "execution_count": null,
   "metadata": {},
   "outputs": [],
   "source": [
    "date_list[:10]"
   ]
  },
  {
   "cell_type": "code",
   "execution_count": null,
   "metadata": {},
   "outputs": [],
   "source": []
  }
 ],
 "metadata": {
  "interpreter": {
   "hash": "daff1afd4d675d5e247c0a95a5de0c03bd87d8f7edee7cb37c539016070f1c16"
  },
  "kernelspec": {
   "display_name": "Python 3.8.12 64-bit ('featstore': conda)",
   "language": "python",
   "name": "python3"
  },
  "language_info": {
   "codemirror_mode": {
    "name": "ipython",
    "version": 3
   },
   "file_extension": ".py",
   "mimetype": "text/x-python",
   "name": "python",
   "nbconvert_exporter": "python",
   "pygments_lexer": "ipython3",
   "version": "3.8.12"
  },
  "orig_nbformat": 4
 },
 "nbformat": 4,
 "nbformat_minor": 2
}
